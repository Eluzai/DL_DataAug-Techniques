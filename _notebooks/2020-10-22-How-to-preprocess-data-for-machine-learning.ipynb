{
 "cells": [
  {
   "cell_type": "markdown",
   "metadata": {},
   "source": [
    "# How to pre-process data for machine learning"
   ]
  },
  {
   "cell_type": "markdown",
   "metadata": {},
   "source": [
    "A common task for almost all data science projects is to preprocess your data. This is especially the case for tabular data. In this blog I want to build a pre-process function which can handle will handle all these pre-processing steps for us. On top of that, I will add enough flexibility to that function to make it useful not just in this example."
   ]
  },
  {
   "cell_type": "markdown",
   "metadata": {},
   "source": [
    "Let's start by loading the data."
   ]
  },
  {
   "cell_type": "markdown",
   "metadata": {},
   "source": [
    "### Imports"
   ]
  },
  {
   "cell_type": "code",
   "execution_count": 1,
   "metadata": {},
   "outputs": [],
   "source": [
    "import numpy as np\n",
    "import pandas as pd\n",
    "import pickle\n",
    "from sklearn.model_selection import train_test_split\n",
    "from sklearn.preprocessing import StandardScaler, MinMaxScaler"
   ]
  },
  {
   "cell_type": "markdown",
   "metadata": {},
   "source": [
    "We later want to save and load data with pickle, so let's define these functions:"
   ]
  },
  {
   "cell_type": "code",
   "execution_count": 3,
   "metadata": {},
   "outputs": [],
   "source": [
    "def save_obj(obj, name ):\n",
    "    with open(f'{name}.pkl', 'wb') as f:\n",
    "        pickle.dump(obj, f)\n",
    "\n",
    "def load_obj(name ):\n",
    "    with open(f'{name}.pkl', 'rb') as f:\n",
    "        return pickle.load(f)"
   ]
  },
  {
   "cell_type": "code",
   "execution_count": 4,
   "metadata": {},
   "outputs": [],
   "source": [
    "df = pd.read_csv('train.csv')"
   ]
  },
  {
   "cell_type": "code",
   "execution_count": 5,
   "metadata": {},
   "outputs": [
    {
     "data": {
      "text/html": [
       "<div>\n",
       "<style scoped>\n",
       "    .dataframe tbody tr th:only-of-type {\n",
       "        vertical-align: middle;\n",
       "    }\n",
       "\n",
       "    .dataframe tbody tr th {\n",
       "        vertical-align: top;\n",
       "    }\n",
       "\n",
       "    .dataframe thead th {\n",
       "        text-align: right;\n",
       "    }\n",
       "</style>\n",
       "<table border=\"1\" class=\"dataframe\">\n",
       "  <thead>\n",
       "    <tr style=\"text-align: right;\">\n",
       "      <th></th>\n",
       "      <th>Id</th>\n",
       "      <th>MSSubClass</th>\n",
       "      <th>MSZoning</th>\n",
       "      <th>LotFrontage</th>\n",
       "      <th>LotArea</th>\n",
       "      <th>Street</th>\n",
       "      <th>Alley</th>\n",
       "      <th>LotShape</th>\n",
       "      <th>LandContour</th>\n",
       "      <th>Utilities</th>\n",
       "      <th>...</th>\n",
       "      <th>PoolArea</th>\n",
       "      <th>PoolQC</th>\n",
       "      <th>Fence</th>\n",
       "      <th>MiscFeature</th>\n",
       "      <th>MiscVal</th>\n",
       "      <th>MoSold</th>\n",
       "      <th>YrSold</th>\n",
       "      <th>SaleType</th>\n",
       "      <th>SaleCondition</th>\n",
       "      <th>SalePrice</th>\n",
       "    </tr>\n",
       "  </thead>\n",
       "  <tbody>\n",
       "    <tr>\n",
       "      <th>0</th>\n",
       "      <td>1</td>\n",
       "      <td>60</td>\n",
       "      <td>RL</td>\n",
       "      <td>65.0</td>\n",
       "      <td>8450</td>\n",
       "      <td>Pave</td>\n",
       "      <td>NaN</td>\n",
       "      <td>Reg</td>\n",
       "      <td>Lvl</td>\n",
       "      <td>AllPub</td>\n",
       "      <td>...</td>\n",
       "      <td>0</td>\n",
       "      <td>NaN</td>\n",
       "      <td>NaN</td>\n",
       "      <td>NaN</td>\n",
       "      <td>0</td>\n",
       "      <td>2</td>\n",
       "      <td>2008</td>\n",
       "      <td>WD</td>\n",
       "      <td>Normal</td>\n",
       "      <td>208500</td>\n",
       "    </tr>\n",
       "    <tr>\n",
       "      <th>1</th>\n",
       "      <td>2</td>\n",
       "      <td>20</td>\n",
       "      <td>RL</td>\n",
       "      <td>80.0</td>\n",
       "      <td>9600</td>\n",
       "      <td>Pave</td>\n",
       "      <td>NaN</td>\n",
       "      <td>Reg</td>\n",
       "      <td>Lvl</td>\n",
       "      <td>AllPub</td>\n",
       "      <td>...</td>\n",
       "      <td>0</td>\n",
       "      <td>NaN</td>\n",
       "      <td>NaN</td>\n",
       "      <td>NaN</td>\n",
       "      <td>0</td>\n",
       "      <td>5</td>\n",
       "      <td>2007</td>\n",
       "      <td>WD</td>\n",
       "      <td>Normal</td>\n",
       "      <td>181500</td>\n",
       "    </tr>\n",
       "    <tr>\n",
       "      <th>2</th>\n",
       "      <td>3</td>\n",
       "      <td>60</td>\n",
       "      <td>RL</td>\n",
       "      <td>68.0</td>\n",
       "      <td>11250</td>\n",
       "      <td>Pave</td>\n",
       "      <td>NaN</td>\n",
       "      <td>IR1</td>\n",
       "      <td>Lvl</td>\n",
       "      <td>AllPub</td>\n",
       "      <td>...</td>\n",
       "      <td>0</td>\n",
       "      <td>NaN</td>\n",
       "      <td>NaN</td>\n",
       "      <td>NaN</td>\n",
       "      <td>0</td>\n",
       "      <td>9</td>\n",
       "      <td>2008</td>\n",
       "      <td>WD</td>\n",
       "      <td>Normal</td>\n",
       "      <td>223500</td>\n",
       "    </tr>\n",
       "    <tr>\n",
       "      <th>3</th>\n",
       "      <td>4</td>\n",
       "      <td>70</td>\n",
       "      <td>RL</td>\n",
       "      <td>60.0</td>\n",
       "      <td>9550</td>\n",
       "      <td>Pave</td>\n",
       "      <td>NaN</td>\n",
       "      <td>IR1</td>\n",
       "      <td>Lvl</td>\n",
       "      <td>AllPub</td>\n",
       "      <td>...</td>\n",
       "      <td>0</td>\n",
       "      <td>NaN</td>\n",
       "      <td>NaN</td>\n",
       "      <td>NaN</td>\n",
       "      <td>0</td>\n",
       "      <td>2</td>\n",
       "      <td>2006</td>\n",
       "      <td>WD</td>\n",
       "      <td>Abnorml</td>\n",
       "      <td>140000</td>\n",
       "    </tr>\n",
       "    <tr>\n",
       "      <th>4</th>\n",
       "      <td>5</td>\n",
       "      <td>60</td>\n",
       "      <td>RL</td>\n",
       "      <td>84.0</td>\n",
       "      <td>14260</td>\n",
       "      <td>Pave</td>\n",
       "      <td>NaN</td>\n",
       "      <td>IR1</td>\n",
       "      <td>Lvl</td>\n",
       "      <td>AllPub</td>\n",
       "      <td>...</td>\n",
       "      <td>0</td>\n",
       "      <td>NaN</td>\n",
       "      <td>NaN</td>\n",
       "      <td>NaN</td>\n",
       "      <td>0</td>\n",
       "      <td>12</td>\n",
       "      <td>2008</td>\n",
       "      <td>WD</td>\n",
       "      <td>Normal</td>\n",
       "      <td>250000</td>\n",
       "    </tr>\n",
       "  </tbody>\n",
       "</table>\n",
       "<p>5 rows × 81 columns</p>\n",
       "</div>"
      ],
      "text/plain": [
       "   Id  MSSubClass MSZoning  LotFrontage  LotArea Street Alley LotShape  \\\n",
       "0   1          60       RL         65.0     8450   Pave   NaN      Reg   \n",
       "1   2          20       RL         80.0     9600   Pave   NaN      Reg   \n",
       "2   3          60       RL         68.0    11250   Pave   NaN      IR1   \n",
       "3   4          70       RL         60.0     9550   Pave   NaN      IR1   \n",
       "4   5          60       RL         84.0    14260   Pave   NaN      IR1   \n",
       "\n",
       "  LandContour Utilities  ... PoolArea PoolQC Fence MiscFeature MiscVal MoSold  \\\n",
       "0         Lvl    AllPub  ...        0    NaN   NaN         NaN       0      2   \n",
       "1         Lvl    AllPub  ...        0    NaN   NaN         NaN       0      5   \n",
       "2         Lvl    AllPub  ...        0    NaN   NaN         NaN       0      9   \n",
       "3         Lvl    AllPub  ...        0    NaN   NaN         NaN       0      2   \n",
       "4         Lvl    AllPub  ...        0    NaN   NaN         NaN       0     12   \n",
       "\n",
       "  YrSold  SaleType  SaleCondition  SalePrice  \n",
       "0   2008        WD         Normal     208500  \n",
       "1   2007        WD         Normal     181500  \n",
       "2   2008        WD         Normal     223500  \n",
       "3   2006        WD        Abnorml     140000  \n",
       "4   2008        WD         Normal     250000  \n",
       "\n",
       "[5 rows x 81 columns]"
      ]
     },
     "execution_count": 5,
     "metadata": {},
     "output_type": "execute_result"
    }
   ],
   "source": [
    "df.head()"
   ]
  },
  {
   "cell_type": "code",
   "execution_count": 6,
   "metadata": {},
   "outputs": [
    {
     "data": {
      "text/plain": [
       "(1460, 81)"
      ]
     },
     "execution_count": 6,
     "metadata": {},
     "output_type": "execute_result"
    }
   ],
   "source": [
    "df.shape"
   ]
  },
  {
   "cell_type": "markdown",
   "metadata": {},
   "source": [
    "We've got 81 columns in our data. That's a lot of data, for this blog we only need a couple of these variables. The function will then work for any length of datasets. We define which columns to keep and then check the data types."
   ]
  },
  {
   "cell_type": "code",
   "execution_count": 7,
   "metadata": {},
   "outputs": [],
   "source": [
    "to_keep = ['Id', 'MSZoning', 'LotFrontage', 'LotArea', 'Street', 'OverallQual', 'YearBuilt', 'CentralAir', 'SaleType', 'SalePrice']"
   ]
  },
  {
   "cell_type": "code",
   "execution_count": 8,
   "metadata": {},
   "outputs": [
    {
     "data": {
      "text/html": [
       "<div>\n",
       "<style scoped>\n",
       "    .dataframe tbody tr th:only-of-type {\n",
       "        vertical-align: middle;\n",
       "    }\n",
       "\n",
       "    .dataframe tbody tr th {\n",
       "        vertical-align: top;\n",
       "    }\n",
       "\n",
       "    .dataframe thead th {\n",
       "        text-align: right;\n",
       "    }\n",
       "</style>\n",
       "<table border=\"1\" class=\"dataframe\">\n",
       "  <thead>\n",
       "    <tr style=\"text-align: right;\">\n",
       "      <th></th>\n",
       "      <th>Id</th>\n",
       "      <th>MSZoning</th>\n",
       "      <th>LotFrontage</th>\n",
       "      <th>LotArea</th>\n",
       "      <th>Street</th>\n",
       "      <th>OverallQual</th>\n",
       "      <th>YearBuilt</th>\n",
       "      <th>CentralAir</th>\n",
       "      <th>SaleType</th>\n",
       "      <th>SalePrice</th>\n",
       "    </tr>\n",
       "  </thead>\n",
       "  <tbody>\n",
       "    <tr>\n",
       "      <th>0</th>\n",
       "      <td>1</td>\n",
       "      <td>RL</td>\n",
       "      <td>65.0</td>\n",
       "      <td>8450</td>\n",
       "      <td>Pave</td>\n",
       "      <td>7</td>\n",
       "      <td>2003</td>\n",
       "      <td>Y</td>\n",
       "      <td>WD</td>\n",
       "      <td>208500</td>\n",
       "    </tr>\n",
       "    <tr>\n",
       "      <th>1</th>\n",
       "      <td>2</td>\n",
       "      <td>RL</td>\n",
       "      <td>80.0</td>\n",
       "      <td>9600</td>\n",
       "      <td>Pave</td>\n",
       "      <td>6</td>\n",
       "      <td>1976</td>\n",
       "      <td>Y</td>\n",
       "      <td>WD</td>\n",
       "      <td>181500</td>\n",
       "    </tr>\n",
       "    <tr>\n",
       "      <th>2</th>\n",
       "      <td>3</td>\n",
       "      <td>RL</td>\n",
       "      <td>68.0</td>\n",
       "      <td>11250</td>\n",
       "      <td>Pave</td>\n",
       "      <td>7</td>\n",
       "      <td>2001</td>\n",
       "      <td>Y</td>\n",
       "      <td>WD</td>\n",
       "      <td>223500</td>\n",
       "    </tr>\n",
       "    <tr>\n",
       "      <th>3</th>\n",
       "      <td>4</td>\n",
       "      <td>RL</td>\n",
       "      <td>60.0</td>\n",
       "      <td>9550</td>\n",
       "      <td>Pave</td>\n",
       "      <td>7</td>\n",
       "      <td>1915</td>\n",
       "      <td>Y</td>\n",
       "      <td>WD</td>\n",
       "      <td>140000</td>\n",
       "    </tr>\n",
       "    <tr>\n",
       "      <th>4</th>\n",
       "      <td>5</td>\n",
       "      <td>RL</td>\n",
       "      <td>84.0</td>\n",
       "      <td>14260</td>\n",
       "      <td>Pave</td>\n",
       "      <td>8</td>\n",
       "      <td>2000</td>\n",
       "      <td>Y</td>\n",
       "      <td>WD</td>\n",
       "      <td>250000</td>\n",
       "    </tr>\n",
       "  </tbody>\n",
       "</table>\n",
       "</div>"
      ],
      "text/plain": [
       "   Id MSZoning  LotFrontage  LotArea Street  OverallQual  YearBuilt  \\\n",
       "0   1       RL         65.0     8450   Pave            7       2003   \n",
       "1   2       RL         80.0     9600   Pave            6       1976   \n",
       "2   3       RL         68.0    11250   Pave            7       2001   \n",
       "3   4       RL         60.0     9550   Pave            7       1915   \n",
       "4   5       RL         84.0    14260   Pave            8       2000   \n",
       "\n",
       "  CentralAir SaleType  SalePrice  \n",
       "0          Y       WD     208500  \n",
       "1          Y       WD     181500  \n",
       "2          Y       WD     223500  \n",
       "3          Y       WD     140000  \n",
       "4          Y       WD     250000  "
      ]
     },
     "execution_count": 8,
     "metadata": {},
     "output_type": "execute_result"
    }
   ],
   "source": [
    "df = df[to_keep]\n",
    "df.head()"
   ]
  },
  {
   "cell_type": "code",
   "execution_count": 9,
   "metadata": {},
   "outputs": [
    {
     "data": {
      "text/plain": [
       "Id               int64\n",
       "MSZoning        object\n",
       "LotFrontage    float64\n",
       "LotArea          int64\n",
       "Street          object\n",
       "OverallQual      int64\n",
       "YearBuilt        int64\n",
       "CentralAir      object\n",
       "SaleType        object\n",
       "SalePrice        int64\n",
       "dtype: object"
      ]
     },
     "execution_count": 9,
     "metadata": {},
     "output_type": "execute_result"
    }
   ],
   "source": [
    "pd.set_option('display.max_rows', 20)\n",
    "df.dtypes"
   ]
  },
  {
   "cell_type": "markdown",
   "metadata": {},
   "source": [
    "### Datetime vs Continuous vs Categorical"
   ]
  },
  {
   "cell_type": "markdown",
   "metadata": {},
   "source": [
    "In tabular data, there are usually four different data types: dates, continuous and categorical variables (of which boolean are a special type). We need to define which column is of which type. This dataset does not contain a datetime column, so I will define some random datetime data to show you how to cope with datetime data too."
   ]
  },
  {
   "cell_type": "code",
   "execution_count": 10,
   "metadata": {},
   "outputs": [],
   "source": [
    "df[\"Fake_date\"] = np.random.choice(pd.date_range('1980-01-01', '2000-01-01'), len(df)).astype('str')\n",
    "df[\"Fake_date_2\"] = np.random.choice(pd.date_range('1980-01-01', '2000-01-01'), len(df)).astype('str')"
   ]
  },
  {
   "cell_type": "code",
   "execution_count": 11,
   "metadata": {},
   "outputs": [
    {
     "data": {
      "text/html": [
       "<div>\n",
       "<style scoped>\n",
       "    .dataframe tbody tr th:only-of-type {\n",
       "        vertical-align: middle;\n",
       "    }\n",
       "\n",
       "    .dataframe tbody tr th {\n",
       "        vertical-align: top;\n",
       "    }\n",
       "\n",
       "    .dataframe thead th {\n",
       "        text-align: right;\n",
       "    }\n",
       "</style>\n",
       "<table border=\"1\" class=\"dataframe\">\n",
       "  <thead>\n",
       "    <tr style=\"text-align: right;\">\n",
       "      <th></th>\n",
       "      <th>Id</th>\n",
       "      <th>MSZoning</th>\n",
       "      <th>LotFrontage</th>\n",
       "      <th>LotArea</th>\n",
       "      <th>Street</th>\n",
       "      <th>OverallQual</th>\n",
       "      <th>YearBuilt</th>\n",
       "      <th>CentralAir</th>\n",
       "      <th>SaleType</th>\n",
       "      <th>SalePrice</th>\n",
       "      <th>Fake_date</th>\n",
       "      <th>Fake_date_2</th>\n",
       "    </tr>\n",
       "  </thead>\n",
       "  <tbody>\n",
       "    <tr>\n",
       "      <th>0</th>\n",
       "      <td>1</td>\n",
       "      <td>RL</td>\n",
       "      <td>65.0</td>\n",
       "      <td>8450</td>\n",
       "      <td>Pave</td>\n",
       "      <td>7</td>\n",
       "      <td>2003</td>\n",
       "      <td>Y</td>\n",
       "      <td>WD</td>\n",
       "      <td>208500</td>\n",
       "      <td>1985-12-22T00:00:00.000000000</td>\n",
       "      <td>1988-05-22T00:00:00.000000000</td>\n",
       "    </tr>\n",
       "    <tr>\n",
       "      <th>1</th>\n",
       "      <td>2</td>\n",
       "      <td>RL</td>\n",
       "      <td>80.0</td>\n",
       "      <td>9600</td>\n",
       "      <td>Pave</td>\n",
       "      <td>6</td>\n",
       "      <td>1976</td>\n",
       "      <td>Y</td>\n",
       "      <td>WD</td>\n",
       "      <td>181500</td>\n",
       "      <td>1999-11-12T00:00:00.000000000</td>\n",
       "      <td>1983-08-11T00:00:00.000000000</td>\n",
       "    </tr>\n",
       "    <tr>\n",
       "      <th>2</th>\n",
       "      <td>3</td>\n",
       "      <td>RL</td>\n",
       "      <td>68.0</td>\n",
       "      <td>11250</td>\n",
       "      <td>Pave</td>\n",
       "      <td>7</td>\n",
       "      <td>2001</td>\n",
       "      <td>Y</td>\n",
       "      <td>WD</td>\n",
       "      <td>223500</td>\n",
       "      <td>1998-03-07T00:00:00.000000000</td>\n",
       "      <td>1991-12-15T00:00:00.000000000</td>\n",
       "    </tr>\n",
       "    <tr>\n",
       "      <th>3</th>\n",
       "      <td>4</td>\n",
       "      <td>RL</td>\n",
       "      <td>60.0</td>\n",
       "      <td>9550</td>\n",
       "      <td>Pave</td>\n",
       "      <td>7</td>\n",
       "      <td>1915</td>\n",
       "      <td>Y</td>\n",
       "      <td>WD</td>\n",
       "      <td>140000</td>\n",
       "      <td>1985-04-11T00:00:00.000000000</td>\n",
       "      <td>1980-11-27T00:00:00.000000000</td>\n",
       "    </tr>\n",
       "    <tr>\n",
       "      <th>4</th>\n",
       "      <td>5</td>\n",
       "      <td>RL</td>\n",
       "      <td>84.0</td>\n",
       "      <td>14260</td>\n",
       "      <td>Pave</td>\n",
       "      <td>8</td>\n",
       "      <td>2000</td>\n",
       "      <td>Y</td>\n",
       "      <td>WD</td>\n",
       "      <td>250000</td>\n",
       "      <td>1980-12-04T00:00:00.000000000</td>\n",
       "      <td>1982-10-01T00:00:00.000000000</td>\n",
       "    </tr>\n",
       "  </tbody>\n",
       "</table>\n",
       "</div>"
      ],
      "text/plain": [
       "   Id MSZoning  LotFrontage  LotArea Street  OverallQual  YearBuilt  \\\n",
       "0   1       RL         65.0     8450   Pave            7       2003   \n",
       "1   2       RL         80.0     9600   Pave            6       1976   \n",
       "2   3       RL         68.0    11250   Pave            7       2001   \n",
       "3   4       RL         60.0     9550   Pave            7       1915   \n",
       "4   5       RL         84.0    14260   Pave            8       2000   \n",
       "\n",
       "  CentralAir SaleType  SalePrice                      Fake_date  \\\n",
       "0          Y       WD     208500  1985-12-22T00:00:00.000000000   \n",
       "1          Y       WD     181500  1999-11-12T00:00:00.000000000   \n",
       "2          Y       WD     223500  1998-03-07T00:00:00.000000000   \n",
       "3          Y       WD     140000  1985-04-11T00:00:00.000000000   \n",
       "4          Y       WD     250000  1980-12-04T00:00:00.000000000   \n",
       "\n",
       "                     Fake_date_2  \n",
       "0  1988-05-22T00:00:00.000000000  \n",
       "1  1983-08-11T00:00:00.000000000  \n",
       "2  1991-12-15T00:00:00.000000000  \n",
       "3  1980-11-27T00:00:00.000000000  \n",
       "4  1982-10-01T00:00:00.000000000  "
      ]
     },
     "execution_count": 11,
     "metadata": {},
     "output_type": "execute_result"
    }
   ],
   "source": [
    "df.head()"
   ]
  },
  {
   "cell_type": "code",
   "execution_count": 12,
   "metadata": {},
   "outputs": [
    {
     "data": {
      "text/plain": [
       "Id               int64\n",
       "MSZoning        object\n",
       "LotFrontage    float64\n",
       "LotArea          int64\n",
       "Street          object\n",
       "OverallQual      int64\n",
       "YearBuilt        int64\n",
       "CentralAir      object\n",
       "SaleType        object\n",
       "SalePrice        int64\n",
       "Fake_date       object\n",
       "Fake_date_2     object\n",
       "dtype: object"
      ]
     },
     "execution_count": 12,
     "metadata": {},
     "output_type": "execute_result"
    }
   ],
   "source": [
    "df.dtypes"
   ]
  },
  {
   "cell_type": "markdown",
   "metadata": {},
   "source": [
    "We now need to define which column should be of which type. We use four lists for this:"
   ]
  },
  {
   "cell_type": "code",
   "execution_count": 13,
   "metadata": {},
   "outputs": [],
   "source": [
    "date_type = ['Fake_date', 'Fake_date_2']\n",
    "continuous_type = ['LotFrontage', 'LotArea', 'YearBuilt', 'SalePrice']\n",
    "categorical_type = ['MSZoning', 'Street', 'OverallQual', 'SaleType','CentralAir']"
   ]
  },
  {
   "cell_type": "markdown",
   "metadata": {},
   "source": [
    "I defined 'OverallQual' as a category, because even though this variable is in ascending order, we do not know whether the difference from OverallQual of 6 and 7 is the same magnitude than OverallQual from 0 to 1. However, you can define this variable as continous as well."
   ]
  },
  {
   "cell_type": "markdown",
   "metadata": {},
   "source": [
    "We then define a small function, which will take our lists as input and transform our data to the correct data types."
   ]
  },
  {
   "cell_type": "code",
   "execution_count": 14,
   "metadata": {},
   "outputs": [],
   "source": [
    "def df_to_type(df, cont_type, cat_type):\n",
    "    if cat_type is not None:\n",
    "        df[cat_type] = df[cat_type].astype('category')\n",
    "    for i in date_type:\n",
    "        df[i] = pd.to_datetime(df[i])\n",
    "    return df    "
   ]
  },
  {
   "cell_type": "markdown",
   "metadata": {},
   "source": [
    "Did it work?"
   ]
  },
  {
   "cell_type": "code",
   "execution_count": 16,
   "metadata": {},
   "outputs": [
    {
     "data": {
      "text/plain": [
       "Id                      int64\n",
       "MSZoning             category\n",
       "LotFrontage           float64\n",
       "LotArea                 int64\n",
       "Street               category\n",
       "OverallQual          category\n",
       "YearBuilt               int64\n",
       "CentralAir           category\n",
       "SaleType             category\n",
       "SalePrice               int64\n",
       "Fake_date      datetime64[ns]\n",
       "Fake_date_2    datetime64[ns]\n",
       "dtype: object"
      ]
     },
     "execution_count": 16,
     "metadata": {},
     "output_type": "execute_result"
    }
   ],
   "source": [
    "df_to_type(df, continuous_type, categorical_type)\n",
    "df.dtypes"
   ]
  },
  {
   "cell_type": "markdown",
   "metadata": {},
   "source": [
    "That looks good! We can now make use of pandas various datetime functions to add more informations to our data. I therefore make use of fastai's add_datepart function. However, I do not want to import the whole library, so I simple get the parts for this specific function."
   ]
  },
  {
   "cell_type": "code",
   "execution_count": 17,
   "metadata": {},
   "outputs": [],
   "source": [
    "import re\n",
    "\n",
    "def ifnone(a:any,b:any)->any:\n",
    "    \"`a` if `a` is not None, otherwise `b`.\"\n",
    "    return b if a is None else a\n",
    "    \n",
    "def make_date(df, date_field):\n",
    "    \"Make sure `df[date_field]` is of the right date type.\"\n",
    "    field_dtype = df[date_field].dtype\n",
    "    if isinstance(field_dtype, pd.core.dtypes.dtypes.DatetimeTZDtype):\n",
    "        field_dtype = np.datetime64\n",
    "    if not np.issubdtype(field_dtype, np.datetime64):\n",
    "        df[date_field] = pd.to_datetime(df[date_field], infer_datetime_format=True)\n",
    "    \n",
    "def add_datepart(df, field_name, prefix=None, drop=True, time=False):\n",
    "    \"Helper function that adds columns relevant to a date in the column `field_name` of `df`.\"\n",
    "    make_date(df, field_name)\n",
    "    field = df[field_name]\n",
    "    prefix = ifnone(prefix, re.sub('[Dd]ate$', '', field_name))\n",
    "    attr = ['Year', 'Month', 'Day', 'Dayofweek', 'Dayofyear', 'Is_month_end', 'Is_month_start',\n",
    "            'Is_quarter_end', 'Is_quarter_start', 'Is_year_end', 'Is_year_start']\n",
    "    if time: attr = attr + ['Hour', 'Minute', 'Second']\n",
    "    for n in attr: df[prefix + n] = getattr(field.dt, n.lower())\n",
    "    # Pandas removed `dt.week` in v1.1.10\n",
    "    week = field.dt.isocalendar().week if hasattr(field.dt, 'isocalendar') else field.dt.week\n",
    "    df.insert(3, prefix+'Week', week)\n",
    "    mask = ~field.isna()\n",
    "    df[prefix + 'Elapsed'] = np.where(mask,field.values.astype(np.int64) // 10 ** 9,None)\n",
    "    if drop: df.drop(field_name, axis=1, inplace=True)\n",
    "    return df"
   ]
  },
  {
   "cell_type": "markdown",
   "metadata": {},
   "source": [
    "Let's add to the function, so that after defining the correct data type it takes all of our date-variables and transforms them according to add_datepart."
   ]
  },
  {
   "cell_type": "code",
   "execution_count": 20,
   "metadata": {},
   "outputs": [],
   "source": [
    "def df_to_type(df, date_type=None, cont_type=None, cat_type=None):\n",
    "    if cat_type is not None:\n",
    "        df[cat_type] = df[cat_type].astype('category')\n",
    "    if date_type is not None:\n",
    "        for i in date_type:\n",
    "            df[i] = pd.to_datetime(df[i])\n",
    "            df = add_datepart(df, i)\n",
    "    return df  "
   ]
  },
  {
   "cell_type": "code",
   "execution_count": 21,
   "metadata": {},
   "outputs": [
    {
     "data": {
      "text/html": [
       "<div>\n",
       "<style scoped>\n",
       "    .dataframe tbody tr th:only-of-type {\n",
       "        vertical-align: middle;\n",
       "    }\n",
       "\n",
       "    .dataframe tbody tr th {\n",
       "        vertical-align: top;\n",
       "    }\n",
       "\n",
       "    .dataframe thead th {\n",
       "        text-align: right;\n",
       "    }\n",
       "</style>\n",
       "<table border=\"1\" class=\"dataframe\">\n",
       "  <thead>\n",
       "    <tr style=\"text-align: right;\">\n",
       "      <th></th>\n",
       "      <th>Id</th>\n",
       "      <th>MSZoning</th>\n",
       "      <th>LotFrontage</th>\n",
       "      <th>Fake_date_2Week</th>\n",
       "      <th>Fake_Week</th>\n",
       "      <th>LotArea</th>\n",
       "      <th>Street</th>\n",
       "      <th>OverallQual</th>\n",
       "      <th>YearBuilt</th>\n",
       "      <th>CentralAir</th>\n",
       "      <th>...</th>\n",
       "      <th>Fake_date_2Day</th>\n",
       "      <th>Fake_date_2Dayofweek</th>\n",
       "      <th>Fake_date_2Dayofyear</th>\n",
       "      <th>Fake_date_2Is_month_end</th>\n",
       "      <th>Fake_date_2Is_month_start</th>\n",
       "      <th>Fake_date_2Is_quarter_end</th>\n",
       "      <th>Fake_date_2Is_quarter_start</th>\n",
       "      <th>Fake_date_2Is_year_end</th>\n",
       "      <th>Fake_date_2Is_year_start</th>\n",
       "      <th>Fake_date_2Elapsed</th>\n",
       "    </tr>\n",
       "  </thead>\n",
       "  <tbody>\n",
       "    <tr>\n",
       "      <th>0</th>\n",
       "      <td>1</td>\n",
       "      <td>RL</td>\n",
       "      <td>65.0</td>\n",
       "      <td>20</td>\n",
       "      <td>51</td>\n",
       "      <td>8450</td>\n",
       "      <td>Pave</td>\n",
       "      <td>7</td>\n",
       "      <td>2003</td>\n",
       "      <td>Y</td>\n",
       "      <td>...</td>\n",
       "      <td>22</td>\n",
       "      <td>6</td>\n",
       "      <td>143</td>\n",
       "      <td>False</td>\n",
       "      <td>False</td>\n",
       "      <td>False</td>\n",
       "      <td>False</td>\n",
       "      <td>False</td>\n",
       "      <td>False</td>\n",
       "      <td>580262400</td>\n",
       "    </tr>\n",
       "    <tr>\n",
       "      <th>1</th>\n",
       "      <td>2</td>\n",
       "      <td>RL</td>\n",
       "      <td>80.0</td>\n",
       "      <td>32</td>\n",
       "      <td>45</td>\n",
       "      <td>9600</td>\n",
       "      <td>Pave</td>\n",
       "      <td>6</td>\n",
       "      <td>1976</td>\n",
       "      <td>Y</td>\n",
       "      <td>...</td>\n",
       "      <td>11</td>\n",
       "      <td>3</td>\n",
       "      <td>223</td>\n",
       "      <td>False</td>\n",
       "      <td>False</td>\n",
       "      <td>False</td>\n",
       "      <td>False</td>\n",
       "      <td>False</td>\n",
       "      <td>False</td>\n",
       "      <td>429408000</td>\n",
       "    </tr>\n",
       "    <tr>\n",
       "      <th>2</th>\n",
       "      <td>3</td>\n",
       "      <td>RL</td>\n",
       "      <td>68.0</td>\n",
       "      <td>50</td>\n",
       "      <td>10</td>\n",
       "      <td>11250</td>\n",
       "      <td>Pave</td>\n",
       "      <td>7</td>\n",
       "      <td>2001</td>\n",
       "      <td>Y</td>\n",
       "      <td>...</td>\n",
       "      <td>15</td>\n",
       "      <td>6</td>\n",
       "      <td>349</td>\n",
       "      <td>False</td>\n",
       "      <td>False</td>\n",
       "      <td>False</td>\n",
       "      <td>False</td>\n",
       "      <td>False</td>\n",
       "      <td>False</td>\n",
       "      <td>692755200</td>\n",
       "    </tr>\n",
       "    <tr>\n",
       "      <th>3</th>\n",
       "      <td>4</td>\n",
       "      <td>RL</td>\n",
       "      <td>60.0</td>\n",
       "      <td>48</td>\n",
       "      <td>15</td>\n",
       "      <td>9550</td>\n",
       "      <td>Pave</td>\n",
       "      <td>7</td>\n",
       "      <td>1915</td>\n",
       "      <td>Y</td>\n",
       "      <td>...</td>\n",
       "      <td>27</td>\n",
       "      <td>3</td>\n",
       "      <td>332</td>\n",
       "      <td>False</td>\n",
       "      <td>False</td>\n",
       "      <td>False</td>\n",
       "      <td>False</td>\n",
       "      <td>False</td>\n",
       "      <td>False</td>\n",
       "      <td>344131200</td>\n",
       "    </tr>\n",
       "    <tr>\n",
       "      <th>4</th>\n",
       "      <td>5</td>\n",
       "      <td>RL</td>\n",
       "      <td>84.0</td>\n",
       "      <td>39</td>\n",
       "      <td>49</td>\n",
       "      <td>14260</td>\n",
       "      <td>Pave</td>\n",
       "      <td>8</td>\n",
       "      <td>2000</td>\n",
       "      <td>Y</td>\n",
       "      <td>...</td>\n",
       "      <td>1</td>\n",
       "      <td>4</td>\n",
       "      <td>274</td>\n",
       "      <td>False</td>\n",
       "      <td>True</td>\n",
       "      <td>False</td>\n",
       "      <td>True</td>\n",
       "      <td>False</td>\n",
       "      <td>False</td>\n",
       "      <td>402278400</td>\n",
       "    </tr>\n",
       "  </tbody>\n",
       "</table>\n",
       "<p>5 rows × 36 columns</p>\n",
       "</div>"
      ],
      "text/plain": [
       "   Id MSZoning  LotFrontage  Fake_date_2Week  Fake_Week  LotArea Street  \\\n",
       "0   1       RL         65.0               20         51     8450   Pave   \n",
       "1   2       RL         80.0               32         45     9600   Pave   \n",
       "2   3       RL         68.0               50         10    11250   Pave   \n",
       "3   4       RL         60.0               48         15     9550   Pave   \n",
       "4   5       RL         84.0               39         49    14260   Pave   \n",
       "\n",
       "  OverallQual  YearBuilt CentralAir  ... Fake_date_2Day  Fake_date_2Dayofweek  \\\n",
       "0           7       2003          Y  ...             22                     6   \n",
       "1           6       1976          Y  ...             11                     3   \n",
       "2           7       2001          Y  ...             15                     6   \n",
       "3           7       1915          Y  ...             27                     3   \n",
       "4           8       2000          Y  ...              1                     4   \n",
       "\n",
       "   Fake_date_2Dayofyear  Fake_date_2Is_month_end  Fake_date_2Is_month_start  \\\n",
       "0                   143                    False                      False   \n",
       "1                   223                    False                      False   \n",
       "2                   349                    False                      False   \n",
       "3                   332                    False                      False   \n",
       "4                   274                    False                       True   \n",
       "\n",
       "   Fake_date_2Is_quarter_end  Fake_date_2Is_quarter_start  \\\n",
       "0                      False                        False   \n",
       "1                      False                        False   \n",
       "2                      False                        False   \n",
       "3                      False                        False   \n",
       "4                      False                         True   \n",
       "\n",
       "   Fake_date_2Is_year_end  Fake_date_2Is_year_start  Fake_date_2Elapsed  \n",
       "0                   False                     False           580262400  \n",
       "1                   False                     False           429408000  \n",
       "2                   False                     False           692755200  \n",
       "3                   False                     False           344131200  \n",
       "4                   False                     False           402278400  \n",
       "\n",
       "[5 rows x 36 columns]"
      ]
     },
     "execution_count": 21,
     "metadata": {},
     "output_type": "execute_result"
    }
   ],
   "source": [
    "df_1 = df_to_type(df, date_type, continuous_type, categorical_type)\n",
    "df_1.head()"
   ]
  },
  {
   "cell_type": "markdown",
   "metadata": {},
   "source": [
    "Pretty cool right? The next step is to split the data into train and validation set. There are usually three ways to do this: split randomly, split based on a identifier column (so that the same person is either in train or valid regardless of how many rows she represents in the data) or by date (usually in time series).\n",
    "\n",
    "I give three examples how to do this given this specific data. I start by randomly splitting the data:"
   ]
  },
  {
   "cell_type": "markdown",
   "metadata": {},
   "source": [
    "First, we need to define our dependend variable and the rest:"
   ]
  },
  {
   "cell_type": "code",
   "execution_count": 22,
   "metadata": {},
   "outputs": [],
   "source": [
    "dep_var = 'SalePrice'\n",
    "cols = list(df_1.columns)\n",
    "cols.remove(dep_var)"
   ]
  },
  {
   "cell_type": "markdown",
   "metadata": {},
   "source": [
    "Here's how we can make a random split using the train_test_split:"
   ]
  },
  {
   "cell_type": "code",
   "execution_count": 23,
   "metadata": {},
   "outputs": [],
   "source": [
    "X_train, X_test, y_train, y_test = train_test_split(df_1[cols], df_1[dep_var], test_size=0.33, random_state=42)"
   ]
  },
  {
   "cell_type": "code",
   "execution_count": 24,
   "metadata": {},
   "outputs": [
    {
     "data": {
      "text/plain": [
       "((978, 35), (482, 35), (978,), (482,))"
      ]
     },
     "execution_count": 24,
     "metadata": {},
     "output_type": "execute_result"
    }
   ],
   "source": [
    "X_train.shape, X_test.shape, y_train.shape, y_test.shape"
   ]
  },
  {
   "cell_type": "markdown",
   "metadata": {},
   "source": [
    "Another common way how to split the data is based on an ID, so that an ID can only be in one group. Next to the dependend variable we need to define the variable on which to split."
   ]
  },
  {
   "cell_type": "code",
   "execution_count": 25,
   "metadata": {},
   "outputs": [],
   "source": [
    "split_var = 'Id'"
   ]
  },
  {
   "cell_type": "code",
   "execution_count": 26,
   "metadata": {},
   "outputs": [],
   "source": [
    "# list of unique_id\n",
    "unique_id_array = list(df_1[split_var].unique())\n",
    "\n",
    "# split into train and test data based on uid\n",
    "test_size=0.33\n",
    "cnt_uid = len(unique_id_array)\n",
    "len_test = np.round(cnt_uid*test_size).astype(int)\n",
    "len_train = cnt_uid - len_test\n",
    "\n",
    "test_idx = list(np.random.choice(unique_id_array, len_test, replace=False))\n",
    "train_idx = list(set(unique_id_array) - set(test_idx))\n",
    "\n",
    "X_train = df_1[df_1[split_var].isin(train_idx)].copy()\n",
    "y_train = X_train[dep_var]\n",
    "X_train = X_train[cols]\n",
    "X_test = df_1[df_1[split_var].isin(test_idx)].copy()\n",
    "y_test = X_test[dep_var]\n",
    "X_test = X_test[cols]"
   ]
  },
  {
   "cell_type": "code",
   "execution_count": 27,
   "metadata": {},
   "outputs": [
    {
     "data": {
      "text/plain": [
       "((978, 35), (482, 35), (978,), (482,))"
      ]
     },
     "execution_count": 27,
     "metadata": {},
     "output_type": "execute_result"
    }
   ],
   "source": [
    "X_train.shape, X_test.shape, y_train.shape, y_test.shape"
   ]
  },
  {
   "cell_type": "markdown",
   "metadata": {},
   "source": [
    "In this case we end up with the exact same shape of all train and test data. This is due to the fact, that in this case the Id is unique. To see that this will change when there is more than one row per Id I create a fake_ID and show you the results. Let's assume we have 10 IDs:"
   ]
  },
  {
   "cell_type": "code",
   "execution_count": 28,
   "metadata": {},
   "outputs": [],
   "source": [
    "IDS = np.array([1,2,3,4,5,6,7,8,9,10])\n",
    "n = df_1.shape[0]\n",
    "df_1['Fake_ID'] = np.resize(IDS, n)"
   ]
  },
  {
   "cell_type": "code",
   "execution_count": 29,
   "metadata": {},
   "outputs": [
    {
     "data": {
      "text/plain": [
       "0      1\n",
       "1      2\n",
       "2      3\n",
       "3      4\n",
       "4      5\n",
       "5      6\n",
       "6      7\n",
       "7      8\n",
       "8      9\n",
       "9     10\n",
       "10     1\n",
       "11     2\n",
       "Name: Fake_ID, dtype: int64"
      ]
     },
     "execution_count": 29,
     "metadata": {},
     "output_type": "execute_result"
    }
   ],
   "source": [
    "df_1.Fake_ID.head(12)"
   ]
  },
  {
   "cell_type": "markdown",
   "metadata": {},
   "source": [
    "We now do the same thing as before, only using this Fake_ID as split_ID:"
   ]
  },
  {
   "cell_type": "code",
   "execution_count": 30,
   "metadata": {},
   "outputs": [],
   "source": [
    "split_var = 'Fake_ID'\n",
    "\n",
    "# list of unique_id\n",
    "unique_id_array = list(df_1[split_var].unique())\n",
    "\n",
    "# split into train and test data based on uid\n",
    "test_size=0.33\n",
    "cnt_uid = len(unique_id_array)\n",
    "len_test = np.round(cnt_uid*test_size).astype(int)\n",
    "len_train = cnt_uid - len_test\n",
    "\n",
    "test_idx = list(np.random.choice(unique_id_array, len_test, replace=False))\n",
    "train_idx = list(set(unique_id_array) - set(test_idx))\n",
    "\n",
    "X_train = df_1[df_1[split_var].isin(train_idx)].copy()\n",
    "y_train = X_train[dep_var]\n",
    "X_train = X_train[cols]\n",
    "X_test = df_1[df_1[split_var].isin(test_idx)].copy()\n",
    "y_test = X_test[dep_var]\n",
    "X_test = X_test[cols]"
   ]
  },
  {
   "cell_type": "code",
   "execution_count": 31,
   "metadata": {},
   "outputs": [
    {
     "data": {
      "text/plain": [
       "((1022, 35), (438, 35), (1022,), (438,))"
      ]
     },
     "execution_count": 31,
     "metadata": {},
     "output_type": "execute_result"
    }
   ],
   "source": [
    "X_train.shape, X_test.shape, y_train.shape, y_test.shape"
   ]
  },
  {
   "cell_type": "markdown",
   "metadata": {},
   "source": [
    "Beatiful! So let's move on to our last way to split data, defined by the date. We have created the Fake_date variable, resulting in random dates from 01.01.2980 - 01.01.2000. Let's say, we want the last 6 month to be our testset."
   ]
  },
  {
   "cell_type": "code",
   "execution_count": 32,
   "metadata": {},
   "outputs": [],
   "source": [
    "cond = (df_1.Fake_Year<1999) | (df_1.Fake_Month<6)\n",
    "\n",
    "train_idx = np.where( cond)[0]\n",
    "test_idx = np.where(~cond)[0]\n",
    "\n",
    "X_train = df_1.iloc[train_idx]\n",
    "y_train = X_train[dep_var]\n",
    "X_train = X_train[cols]\n",
    "X_test = df_1.iloc[test_idx]\n",
    "y_test = X_test[dep_var]\n",
    "X_test = X_test[cols]"
   ]
  },
  {
   "cell_type": "code",
   "execution_count": 33,
   "metadata": {},
   "outputs": [
    {
     "data": {
      "text/plain": [
       "((1413, 35), (47, 35), (1413,), (47,))"
      ]
     },
     "execution_count": 33,
     "metadata": {},
     "output_type": "execute_result"
    }
   ],
   "source": [
    "X_train.shape, X_test.shape, y_train.shape, y_test.shape"
   ]
  },
  {
   "cell_type": "markdown",
   "metadata": {},
   "source": [
    "We now have the three most common cases for how to split your data. Let's put that into a function."
   ]
  },
  {
   "cell_type": "code",
   "execution_count": 34,
   "metadata": {},
   "outputs": [],
   "source": [
    "def split_df(df, x_cols, dep_var, test_size, split_mode='random', split_var=None, cond=None):\n",
    "    '''\n",
    "    split_mode can take three values: random, on_split_id, on_condition\n",
    "    '''\n",
    "    if split_mode == 'random':\n",
    "        from sklearn.model_selection import train_test_split\n",
    "        X_train, X_test, y_train, y_test = train_test_split(df[x_cols], df_1[dep_var], test_size=test_size)\n",
    "    elif split_mode == 'on_split_id':\n",
    "        if split_var is None:\n",
    "            print('Give name of split_var')\n",
    "        else:\n",
    "            # list of unique_id\n",
    "            unique_id_array = list(df[split_var].unique())\n",
    "\n",
    "            # split into train and test data based on uid\n",
    "            test_size=0.33\n",
    "            cnt_uid = len(unique_id_array)\n",
    "            len_test = np.round(cnt_uid*test_size).astype(int)\n",
    "            len_train = cnt_uid - len_test\n",
    "\n",
    "            test_idx = list(np.random.choice(unique_id_array, len_test, replace=False))\n",
    "            train_idx = list(set(unique_id_array) - set(test_idx))\n",
    "\n",
    "            X_train = df[df[split_var].isin(train_idx)].copy()\n",
    "            y_train = X_train[dep_var]\n",
    "            X_train = X_train[x_cols]\n",
    "            X_test = df[df[split_var].isin(test_idx)].copy()\n",
    "            y_test = X_test[dep_var]\n",
    "            X_test = X_test[x_cols]\n",
    "    elif split_mode == 'on_condition':\n",
    "        if cond is None:\n",
    "            print('You have to specify cond, for example like so: cond = (df_1.Fake_Year<1999) | (df_1.Fake_Month<6)')\n",
    "        else:\n",
    "            train_idx = np.where( cond)[0]\n",
    "            test_idx = np.where(~cond)[0]\n",
    "\n",
    "            X_train = df_1.iloc[train_idx]\n",
    "            y_train = X_train[dep_var]\n",
    "            X_train = X_train[cols]\n",
    "            X_test = df_1.iloc[test_idx]\n",
    "            y_test = X_test[dep_var]\n",
    "            X_test = X_test[cols]\n",
    "    else:\n",
    "        print('Something is not working right, did you specify the split_mode?')\n",
    "    \n",
    "    return X_train, X_test, y_train, y_test        "
   ]
  },
  {
   "cell_type": "markdown",
   "metadata": {},
   "source": [
    "Let's check our function for all three split_modes:"
   ]
  },
  {
   "cell_type": "code",
   "execution_count": 35,
   "metadata": {},
   "outputs": [
    {
     "data": {
      "text/plain": [
       "((978, 35), (482, 35), (978,), (482,))"
      ]
     },
     "execution_count": 35,
     "metadata": {},
     "output_type": "execute_result"
    }
   ],
   "source": [
    "X_train, X_test, y_train, y_test   = split_df(df=df_1, x_cols=cols, dep_var=dep_var, test_size=0.33, split_mode='random')\n",
    "X_train.shape, X_test.shape, y_train.shape, y_test.shape"
   ]
  },
  {
   "cell_type": "code",
   "execution_count": 36,
   "metadata": {},
   "outputs": [
    {
     "data": {
      "text/plain": [
       "((1022, 35), (438, 35), (1022,), (438,))"
      ]
     },
     "execution_count": 36,
     "metadata": {},
     "output_type": "execute_result"
    }
   ],
   "source": [
    "X_train, X_test, y_train, y_test   = split_df(df=df_1, x_cols=cols, dep_var=dep_var, test_size=0.33, split_mode='on_split_id', split_var=split_var)\n",
    "X_train.shape, X_test.shape, y_train.shape, y_test.shape"
   ]
  },
  {
   "cell_type": "code",
   "execution_count": 37,
   "metadata": {},
   "outputs": [
    {
     "data": {
      "text/plain": [
       "((1413, 35), (47, 35), (1413,), (47,))"
      ]
     },
     "execution_count": 37,
     "metadata": {},
     "output_type": "execute_result"
    }
   ],
   "source": [
    "X_train, X_test, y_train, y_test   = split_df(df=df_1, x_cols=cols, dep_var=dep_var, test_size=0.33, split_mode='on_condition', cond=cond)\n",
    "X_train.shape, X_test.shape, y_train.shape, y_test.shape"
   ]
  },
  {
   "cell_type": "markdown",
   "metadata": {},
   "source": [
    "Absolutely brilliant. And we're almost done now. The last piece of the puzzle is the transformation and standardization of our data. We convert the categorical variables into numbers and save the mapping into a dictionary. We standardize the continuous variables with a standardizer of choice and save it. IMPORTANT: we build the dictionaries and the standardizer on the trainset only and use it on the testset to avoid any spillover effects."
   ]
  },
  {
   "cell_type": "markdown",
   "metadata": {},
   "source": [
    "First, we build a function which will transform all of our categorical variables and save it to path. We therefore need a function to save our dicts (and later load them)."
   ]
  },
  {
   "cell_type": "code",
   "execution_count": 38,
   "metadata": {},
   "outputs": [],
   "source": [
    "def cat_transform(X_train, X_test, cat_type, path=''):\n",
    "    dict_list = []\n",
    "    dict_inv_list = []\n",
    "    for i in cat_type:\n",
    "        dict_ = dict( enumerate(X_train[i].cat.categories ) )\n",
    "        dict_inv_ = {v: k for k, v in dict_.items()}\n",
    "        X_train[i] = X_train[i].map(dict_inv_)\n",
    "        X_test[i] = X_test[i].map(dict_inv_)\n",
    "        dict_list.append(dict_)\n",
    "        dict_inv_list.append(dict_inv_list)\n",
    "    dict_name = f'{path}dict_list_cat'\n",
    "    save_obj(dict_list, dict_name)\n",
    "    dict_inv_name = f'{path}dict_inv_list_cat'\n",
    "    save_obj(dict_inv_list, dict_inv_name)\n",
    "    return X_train, X_test, dict_list, dict_inv_list"
   ]
  },
  {
   "cell_type": "code",
   "execution_count": 39,
   "metadata": {},
   "outputs": [],
   "source": [
    "X_train, X_test, y_train, y_test = split_df(df=df_1, x_cols=cols, dep_var=dep_var, test_size=0.33, split_mode='random')\n",
    "X_train, X_test, dict_list, dict_inv_list = cat_transform(X_train, X_test, categorical_type)"
   ]
  },
  {
   "cell_type": "code",
   "execution_count": 40,
   "metadata": {},
   "outputs": [
    {
     "data": {
      "text/html": [
       "<div>\n",
       "<style scoped>\n",
       "    .dataframe tbody tr th:only-of-type {\n",
       "        vertical-align: middle;\n",
       "    }\n",
       "\n",
       "    .dataframe tbody tr th {\n",
       "        vertical-align: top;\n",
       "    }\n",
       "\n",
       "    .dataframe thead th {\n",
       "        text-align: right;\n",
       "    }\n",
       "</style>\n",
       "<table border=\"1\" class=\"dataframe\">\n",
       "  <thead>\n",
       "    <tr style=\"text-align: right;\">\n",
       "      <th></th>\n",
       "      <th>MSZoning</th>\n",
       "      <th>Street</th>\n",
       "      <th>OverallQual</th>\n",
       "      <th>SaleType</th>\n",
       "      <th>CentralAir</th>\n",
       "    </tr>\n",
       "  </thead>\n",
       "  <tbody>\n",
       "    <tr>\n",
       "      <th>744</th>\n",
       "      <td>3</td>\n",
       "      <td>1</td>\n",
       "      <td>7</td>\n",
       "      <td>8</td>\n",
       "      <td>1</td>\n",
       "    </tr>\n",
       "    <tr>\n",
       "      <th>492</th>\n",
       "      <td>3</td>\n",
       "      <td>1</td>\n",
       "      <td>5</td>\n",
       "      <td>6</td>\n",
       "      <td>1</td>\n",
       "    </tr>\n",
       "    <tr>\n",
       "      <th>307</th>\n",
       "      <td>4</td>\n",
       "      <td>1</td>\n",
       "      <td>5</td>\n",
       "      <td>8</td>\n",
       "      <td>1</td>\n",
       "    </tr>\n",
       "    <tr>\n",
       "      <th>985</th>\n",
       "      <td>3</td>\n",
       "      <td>1</td>\n",
       "      <td>4</td>\n",
       "      <td>3</td>\n",
       "      <td>0</td>\n",
       "    </tr>\n",
       "    <tr>\n",
       "      <th>484</th>\n",
       "      <td>3</td>\n",
       "      <td>1</td>\n",
       "      <td>4</td>\n",
       "      <td>8</td>\n",
       "      <td>1</td>\n",
       "    </tr>\n",
       "  </tbody>\n",
       "</table>\n",
       "</div>"
      ],
      "text/plain": [
       "    MSZoning Street OverallQual SaleType CentralAir\n",
       "744        3      1           7        8          1\n",
       "492        3      1           5        6          1\n",
       "307        4      1           5        8          1\n",
       "985        3      1           4        3          0\n",
       "484        3      1           4        8          1"
      ]
     },
     "execution_count": 40,
     "metadata": {},
     "output_type": "execute_result"
    }
   ],
   "source": [
    "X_train[categorical_type].head()"
   ]
  },
  {
   "cell_type": "markdown",
   "metadata": {},
   "source": [
    "With this function we automatically saved our dictionaries and mappings to the corresponding path. Next, we take the continuous variables, use a standardizer of our choice and save the standardizer to path. We have to indicate the ID column, because we do not want to standardize this column. We also have to define whether we want to standardize our target variable."
   ]
  },
  {
   "cell_type": "code",
   "execution_count": 64,
   "metadata": {},
   "outputs": [],
   "source": [
    "def cont_standardize(X_train, X_test, y_train, y_test, cat_type=None, id_type=None, transform_y=True, path='', standardizer='StandardScaler'):\n",
    "    if standardizer =='StandardScaler':\n",
    "        scaler = StandardScaler()\n",
    "        if cat_type==None:\n",
    "            cont_type = list(X_train.columns)\n",
    "            cont_type.remove(id_type)\n",
    "        elif id_type==None:\n",
    "            list(set(X_train.columns) - set(id_type))\n",
    "        elif cat_type==None and id_type==None:\n",
    "            cont_type = list(X_train.columns)\n",
    "        else:\n",
    "            cont_type = list(set(X_train.columns) - set(cat_type))\n",
    "            cont_type.remove(id_type)\n",
    "                                 \n",
    "        X_train[cont_type] = scaler.fit_transform(X_train[cont_type])\n",
    "        X_test[cont_type] = scaler.transform(X_test[cont_type])\n",
    "        scaler_name = f'{path}StandardScaler'\n",
    "        save_obj(scaler, scaler_name)\n",
    "        if transform_y:\n",
    "            scaler_y = StandardScaler()\n",
    "            y_train = scaler_y.fit_transform(y_train.values.reshape(-1, 1))\n",
    "            y_test = scaler_y.transform(y_test.values.reshape(-1, 1))\n",
    "            scaler_y_name = f'{path}StandardScaler_y'\n",
    "            save_obj(scaler_y, scaler_name)\n",
    "        else:\n",
    "            pass\n",
    "        if transform_y:\n",
    "            return X_train, X_test, y_train, y_test, scaler, scaler_y\n",
    "        else:\n",
    "            return X_train, X_test, y_train, y_test, scaler\n",
    "    \n",
    "    elif standardizer =='MinMaxScaler':\n",
    "        scaler = MinMaxScaler()\n",
    "        if cat_type==None:\n",
    "            cont_type = list(X_train.columns)\n",
    "            cont_type.remove(id_type)\n",
    "        elif id_type==None:\n",
    "            list(set(X_train.columns) - set(id_type))\n",
    "        elif cat_type==None and id_type==None:\n",
    "            cont_type = list(X_train.columns)\n",
    "        else:\n",
    "            cont_type = list(set(X_train.columns) - set(cat_type))\n",
    "            cont_type.remove(id_type)\n",
    "                                 \n",
    "        X_train[cont_type] = scaler.fit_transform(X_train[cont_type])\n",
    "        X_test[cont_type] = scaler.transform(X_test[cont_type])\n",
    "        scaler_name = f'{path}MinMaxScaler'\n",
    "        save_obj(scaler, scaler_name)\n",
    "        if transform_y:\n",
    "            scaler_y = MinMaxScaler()\n",
    "            y_train = scaler_y.fit_transform(y_train.values.reshape(-1, 1))\n",
    "            y_test = scaler_y.transform(y_test.values.reshape(-1, 1))\n",
    "            scaler_y_name = f'{path}MinMaxScaler_y'\n",
    "            save_obj(scaler_y, scaler_name)\n",
    "        else:\n",
    "            pass\n",
    "        if transform_y:\n",
    "            return X_train, X_test, y_train, y_test, scaler, scaler_y\n",
    "        else:\n",
    "            return X_train, X_test, y_train, y_test, scaler\n",
    "        \n",
    "    else:\n",
    "        print('standardizer can either be StandardScaler or MinMaxScaler')    "
   ]
  },
  {
   "cell_type": "code",
   "execution_count": 42,
   "metadata": {},
   "outputs": [],
   "source": [
    "id_type='Id'"
   ]
  },
  {
   "cell_type": "code",
   "execution_count": 43,
   "metadata": {},
   "outputs": [],
   "source": [
    "X_train, X_test, y_train, y_test, scaler, scaler_y = cont_standardize(X_train, X_test, y_train, y_test, cat_type=categorical_type, id_type='Id', transform_y=True)"
   ]
  },
  {
   "cell_type": "code",
   "execution_count": 44,
   "metadata": {},
   "outputs": [
    {
     "data": {
      "text/html": [
       "<div>\n",
       "<style scoped>\n",
       "    .dataframe tbody tr th:only-of-type {\n",
       "        vertical-align: middle;\n",
       "    }\n",
       "\n",
       "    .dataframe tbody tr th {\n",
       "        vertical-align: top;\n",
       "    }\n",
       "\n",
       "    .dataframe thead th {\n",
       "        text-align: right;\n",
       "    }\n",
       "</style>\n",
       "<table border=\"1\" class=\"dataframe\">\n",
       "  <thead>\n",
       "    <tr style=\"text-align: right;\">\n",
       "      <th></th>\n",
       "      <th>Id</th>\n",
       "      <th>MSZoning</th>\n",
       "      <th>LotFrontage</th>\n",
       "      <th>Fake_date_2Week</th>\n",
       "      <th>Fake_Week</th>\n",
       "      <th>LotArea</th>\n",
       "      <th>Street</th>\n",
       "      <th>OverallQual</th>\n",
       "      <th>YearBuilt</th>\n",
       "      <th>CentralAir</th>\n",
       "      <th>...</th>\n",
       "      <th>Fake_date_2Day</th>\n",
       "      <th>Fake_date_2Dayofweek</th>\n",
       "      <th>Fake_date_2Dayofyear</th>\n",
       "      <th>Fake_date_2Is_month_end</th>\n",
       "      <th>Fake_date_2Is_month_start</th>\n",
       "      <th>Fake_date_2Is_quarter_end</th>\n",
       "      <th>Fake_date_2Is_quarter_start</th>\n",
       "      <th>Fake_date_2Is_year_end</th>\n",
       "      <th>Fake_date_2Is_year_start</th>\n",
       "      <th>Fake_date_2Elapsed</th>\n",
       "    </tr>\n",
       "  </thead>\n",
       "  <tbody>\n",
       "    <tr>\n",
       "      <th>744</th>\n",
       "      <td>0.043062</td>\n",
       "      <td>3</td>\n",
       "      <td>-1.147645</td>\n",
       "      <td>1.484951</td>\n",
       "      <td>1.160387</td>\n",
       "      <td>-0.511627</td>\n",
       "      <td>1</td>\n",
       "      <td>7</td>\n",
       "      <td>0.716393</td>\n",
       "      <td>1</td>\n",
       "      <td>...</td>\n",
       "      <td>-0.455404</td>\n",
       "      <td>1.448463</td>\n",
       "      <td>1.544753</td>\n",
       "      <td>-0.15861</td>\n",
       "      <td>-0.186871</td>\n",
       "      <td>-0.101639</td>\n",
       "      <td>-0.111456</td>\n",
       "      <td>0.0</td>\n",
       "      <td>-0.064084</td>\n",
       "      <td>-1.213687</td>\n",
       "    </tr>\n",
       "    <tr>\n",
       "      <th>492</th>\n",
       "      <td>-0.554919</td>\n",
       "      <td>3</td>\n",
       "      <td>1.391675</td>\n",
       "      <td>-0.384396</td>\n",
       "      <td>-0.232891</td>\n",
       "      <td>0.521756</td>\n",
       "      <td>1</td>\n",
       "      <td>5</td>\n",
       "      <td>1.155090</td>\n",
       "      <td>1</td>\n",
       "      <td>...</td>\n",
       "      <td>0.557602</td>\n",
       "      <td>-0.500088</td>\n",
       "      <td>-0.401376</td>\n",
       "      <td>-0.15861</td>\n",
       "      <td>-0.186871</td>\n",
       "      <td>-0.101639</td>\n",
       "      <td>-0.111456</td>\n",
       "      <td>0.0</td>\n",
       "      <td>-0.064084</td>\n",
       "      <td>-1.640805</td>\n",
       "    </tr>\n",
       "    <tr>\n",
       "      <th>307</th>\n",
       "      <td>-0.993913</td>\n",
       "      <td>4</td>\n",
       "      <td>NaN</td>\n",
       "      <td>-1.252306</td>\n",
       "      <td>-1.029050</td>\n",
       "      <td>-0.255387</td>\n",
       "      <td>1</td>\n",
       "      <td>5</td>\n",
       "      <td>-1.747058</td>\n",
       "      <td>1</td>\n",
       "      <td>...</td>\n",
       "      <td>0.670158</td>\n",
       "      <td>1.448463</td>\n",
       "      <td>-1.250422</td>\n",
       "      <td>-0.15861</td>\n",
       "      <td>-0.186871</td>\n",
       "      <td>-0.101639</td>\n",
       "      <td>-0.111456</td>\n",
       "      <td>0.0</td>\n",
       "      <td>-0.064084</td>\n",
       "      <td>-0.513396</td>\n",
       "    </tr>\n",
       "    <tr>\n",
       "      <th>985</th>\n",
       "      <td>0.614941</td>\n",
       "      <td>3</td>\n",
       "      <td>-0.076369</td>\n",
       "      <td>-0.117346</td>\n",
       "      <td>0.032495</td>\n",
       "      <td>0.044997</td>\n",
       "      <td>1</td>\n",
       "      <td>4</td>\n",
       "      <td>-0.734681</td>\n",
       "      <td>0</td>\n",
       "      <td>...</td>\n",
       "      <td>0.895271</td>\n",
       "      <td>1.448463</td>\n",
       "      <td>-0.086561</td>\n",
       "      <td>-0.15861</td>\n",
       "      <td>-0.186871</td>\n",
       "      <td>-0.101639</td>\n",
       "      <td>-0.111456</td>\n",
       "      <td>0.0</td>\n",
       "      <td>-0.064084</td>\n",
       "      <td>0.043000</td>\n",
       "    </tr>\n",
       "    <tr>\n",
       "      <th>484</th>\n",
       "      <td>-0.573903</td>\n",
       "      <td>3</td>\n",
       "      <td>NaN</td>\n",
       "      <td>0.149703</td>\n",
       "      <td>-0.630971</td>\n",
       "      <td>-0.271827</td>\n",
       "      <td>1</td>\n",
       "      <td>4</td>\n",
       "      <td>-0.329730</td>\n",
       "      <td>1</td>\n",
       "      <td>...</td>\n",
       "      <td>0.107377</td>\n",
       "      <td>-1.474364</td>\n",
       "      <td>0.132856</td>\n",
       "      <td>-0.15861</td>\n",
       "      <td>-0.186871</td>\n",
       "      <td>-0.101639</td>\n",
       "      <td>-0.111456</td>\n",
       "      <td>0.0</td>\n",
       "      <td>-0.064084</td>\n",
       "      <td>0.887644</td>\n",
       "    </tr>\n",
       "  </tbody>\n",
       "</table>\n",
       "<p>5 rows × 35 columns</p>\n",
       "</div>"
      ],
      "text/plain": [
       "           Id MSZoning  LotFrontage  Fake_date_2Week  Fake_Week   LotArea  \\\n",
       "744  0.043062        3    -1.147645         1.484951   1.160387 -0.511627   \n",
       "492 -0.554919        3     1.391675        -0.384396  -0.232891  0.521756   \n",
       "307 -0.993913        4          NaN        -1.252306  -1.029050 -0.255387   \n",
       "985  0.614941        3    -0.076369        -0.117346   0.032495  0.044997   \n",
       "484 -0.573903        3          NaN         0.149703  -0.630971 -0.271827   \n",
       "\n",
       "    Street OverallQual  YearBuilt CentralAir  ... Fake_date_2Day  \\\n",
       "744      1           7   0.716393          1  ...      -0.455404   \n",
       "492      1           5   1.155090          1  ...       0.557602   \n",
       "307      1           5  -1.747058          1  ...       0.670158   \n",
       "985      1           4  -0.734681          0  ...       0.895271   \n",
       "484      1           4  -0.329730          1  ...       0.107377   \n",
       "\n",
       "     Fake_date_2Dayofweek  Fake_date_2Dayofyear  Fake_date_2Is_month_end  \\\n",
       "744              1.448463              1.544753                 -0.15861   \n",
       "492             -0.500088             -0.401376                 -0.15861   \n",
       "307              1.448463             -1.250422                 -0.15861   \n",
       "985              1.448463             -0.086561                 -0.15861   \n",
       "484             -1.474364              0.132856                 -0.15861   \n",
       "\n",
       "     Fake_date_2Is_month_start  Fake_date_2Is_quarter_end  \\\n",
       "744                  -0.186871                  -0.101639   \n",
       "492                  -0.186871                  -0.101639   \n",
       "307                  -0.186871                  -0.101639   \n",
       "985                  -0.186871                  -0.101639   \n",
       "484                  -0.186871                  -0.101639   \n",
       "\n",
       "     Fake_date_2Is_quarter_start  Fake_date_2Is_year_end  \\\n",
       "744                    -0.111456                     0.0   \n",
       "492                    -0.111456                     0.0   \n",
       "307                    -0.111456                     0.0   \n",
       "985                    -0.111456                     0.0   \n",
       "484                    -0.111456                     0.0   \n",
       "\n",
       "     Fake_date_2Is_year_start  Fake_date_2Elapsed  \n",
       "744                 -0.064084           -1.213687  \n",
       "492                 -0.064084           -1.640805  \n",
       "307                 -0.064084           -0.513396  \n",
       "985                 -0.064084            0.043000  \n",
       "484                 -0.064084            0.887644  \n",
       "\n",
       "[5 rows x 35 columns]"
      ]
     },
     "execution_count": 44,
     "metadata": {},
     "output_type": "execute_result"
    }
   ],
   "source": [
    "X_train.head()"
   ]
  },
  {
   "cell_type": "code",
   "execution_count": 45,
   "metadata": {},
   "outputs": [
    {
     "data": {
      "text/plain": [
       "array([[-0.02988161],\n",
       "       [-0.11953991],\n",
       "       [-1.1544938 ],\n",
       "       [-0.71334758],\n",
       "       [-0.62014767]])"
      ]
     },
     "execution_count": 45,
     "metadata": {},
     "output_type": "execute_result"
    }
   ],
   "source": [
    "y_train[:5]"
   ]
  },
  {
   "cell_type": "markdown",
   "metadata": {},
   "source": [
    "We have now saved our StandardScaler to path and transformed the data the way we wanted it. To see the \"real\" values of our y_train we simply invert our standardizer:"
   ]
  },
  {
   "cell_type": "code",
   "execution_count": 46,
   "metadata": {},
   "outputs": [
    {
     "data": {
      "text/plain": [
       "array([[180000.],\n",
       "       [172785.],\n",
       "       [ 89500.],\n",
       "       [125000.],\n",
       "       [132500.]])"
      ]
     },
     "execution_count": 46,
     "metadata": {},
     "output_type": "execute_result"
    }
   ],
   "source": [
    "scaler_y.inverse_transform(y_train[:5])"
   ]
  },
  {
   "cell_type": "markdown",
   "metadata": {},
   "source": [
    "Beautiful! And now I want to show you how incredibly quickly we can now setup our data. I deleted everything in memory and started from here."
   ]
  },
  {
   "cell_type": "markdown",
   "metadata": {},
   "source": [
    "## Complete run-through"
   ]
  },
  {
   "cell_type": "code",
   "execution_count": 47,
   "metadata": {},
   "outputs": [
    {
     "data": {
      "text/html": [
       "<div>\n",
       "<style scoped>\n",
       "    .dataframe tbody tr th:only-of-type {\n",
       "        vertical-align: middle;\n",
       "    }\n",
       "\n",
       "    .dataframe tbody tr th {\n",
       "        vertical-align: top;\n",
       "    }\n",
       "\n",
       "    .dataframe thead th {\n",
       "        text-align: right;\n",
       "    }\n",
       "</style>\n",
       "<table border=\"1\" class=\"dataframe\">\n",
       "  <thead>\n",
       "    <tr style=\"text-align: right;\">\n",
       "      <th></th>\n",
       "      <th>Id</th>\n",
       "      <th>MSZoning</th>\n",
       "      <th>LotFrontage</th>\n",
       "      <th>LotArea</th>\n",
       "      <th>Street</th>\n",
       "      <th>OverallQual</th>\n",
       "      <th>YearBuilt</th>\n",
       "      <th>CentralAir</th>\n",
       "      <th>SaleType</th>\n",
       "      <th>SalePrice</th>\n",
       "      <th>Fake_date</th>\n",
       "    </tr>\n",
       "  </thead>\n",
       "  <tbody>\n",
       "    <tr>\n",
       "      <th>0</th>\n",
       "      <td>1</td>\n",
       "      <td>RL</td>\n",
       "      <td>65.0</td>\n",
       "      <td>8450</td>\n",
       "      <td>Pave</td>\n",
       "      <td>7</td>\n",
       "      <td>2003</td>\n",
       "      <td>Y</td>\n",
       "      <td>WD</td>\n",
       "      <td>208500</td>\n",
       "      <td>1988-10-01T00:00:00.000000000</td>\n",
       "    </tr>\n",
       "    <tr>\n",
       "      <th>1</th>\n",
       "      <td>2</td>\n",
       "      <td>RL</td>\n",
       "      <td>80.0</td>\n",
       "      <td>9600</td>\n",
       "      <td>Pave</td>\n",
       "      <td>6</td>\n",
       "      <td>1976</td>\n",
       "      <td>Y</td>\n",
       "      <td>WD</td>\n",
       "      <td>181500</td>\n",
       "      <td>1989-05-17T00:00:00.000000000</td>\n",
       "    </tr>\n",
       "    <tr>\n",
       "      <th>2</th>\n",
       "      <td>3</td>\n",
       "      <td>RL</td>\n",
       "      <td>68.0</td>\n",
       "      <td>11250</td>\n",
       "      <td>Pave</td>\n",
       "      <td>7</td>\n",
       "      <td>2001</td>\n",
       "      <td>Y</td>\n",
       "      <td>WD</td>\n",
       "      <td>223500</td>\n",
       "      <td>1992-09-20T00:00:00.000000000</td>\n",
       "    </tr>\n",
       "    <tr>\n",
       "      <th>3</th>\n",
       "      <td>4</td>\n",
       "      <td>RL</td>\n",
       "      <td>60.0</td>\n",
       "      <td>9550</td>\n",
       "      <td>Pave</td>\n",
       "      <td>7</td>\n",
       "      <td>1915</td>\n",
       "      <td>Y</td>\n",
       "      <td>WD</td>\n",
       "      <td>140000</td>\n",
       "      <td>1984-08-11T00:00:00.000000000</td>\n",
       "    </tr>\n",
       "    <tr>\n",
       "      <th>4</th>\n",
       "      <td>5</td>\n",
       "      <td>RL</td>\n",
       "      <td>84.0</td>\n",
       "      <td>14260</td>\n",
       "      <td>Pave</td>\n",
       "      <td>8</td>\n",
       "      <td>2000</td>\n",
       "      <td>Y</td>\n",
       "      <td>WD</td>\n",
       "      <td>250000</td>\n",
       "      <td>1986-04-07T00:00:00.000000000</td>\n",
       "    </tr>\n",
       "  </tbody>\n",
       "</table>\n",
       "</div>"
      ],
      "text/plain": [
       "   Id MSZoning  LotFrontage  LotArea Street  OverallQual  YearBuilt  \\\n",
       "0   1       RL         65.0     8450   Pave            7       2003   \n",
       "1   2       RL         80.0     9600   Pave            6       1976   \n",
       "2   3       RL         68.0    11250   Pave            7       2001   \n",
       "3   4       RL         60.0     9550   Pave            7       1915   \n",
       "4   5       RL         84.0    14260   Pave            8       2000   \n",
       "\n",
       "  CentralAir SaleType  SalePrice                      Fake_date  \n",
       "0          Y       WD     208500  1988-10-01T00:00:00.000000000  \n",
       "1          Y       WD     181500  1989-05-17T00:00:00.000000000  \n",
       "2          Y       WD     223500  1992-09-20T00:00:00.000000000  \n",
       "3          Y       WD     140000  1984-08-11T00:00:00.000000000  \n",
       "4          Y       WD     250000  1986-04-07T00:00:00.000000000  "
      ]
     },
     "execution_count": 47,
     "metadata": {},
     "output_type": "execute_result"
    }
   ],
   "source": [
    "df = pd.read_csv('train.csv')\n",
    "to_keep = ['Id', 'MSZoning', 'LotFrontage', 'LotArea', 'Street', 'OverallQual', 'YearBuilt', 'CentralAir', 'SaleType', 'SalePrice']\n",
    "df = df[to_keep]\n",
    "df[\"Fake_date\"] = np.random.choice(pd.date_range('1980-01-01', '2000-01-01'), len(df)).astype('str')\n",
    "df.head()"
   ]
  },
  {
   "cell_type": "code",
   "execution_count": 48,
   "metadata": {},
   "outputs": [],
   "source": [
    "date_type = ['Fake_date']\n",
    "continuous_type = ['LotFrontage', 'LotArea', 'YearBuilt', 'SalePrice']\n",
    "categorical_type = ['MSZoning', 'Street', 'OverallQual', 'SaleType','CentralAir']"
   ]
  },
  {
   "cell_type": "code",
   "execution_count": 49,
   "metadata": {},
   "outputs": [],
   "source": [
    "df_1 = df_to_type(df, date_type, continuous_type, categorical_type)"
   ]
  },
  {
   "cell_type": "code",
   "execution_count": 51,
   "metadata": {},
   "outputs": [],
   "source": [
    "dep_var = 'SalePrice'\n",
    "cols = list(df_1.columns)\n",
    "cols.remove(dep_var)"
   ]
  },
  {
   "cell_type": "code",
   "execution_count": 52,
   "metadata": {},
   "outputs": [],
   "source": [
    "X_train, X_test, y_train, y_test = split_df(df=df_1, x_cols=cols, dep_var=dep_var, test_size=0.33, split_mode='random')"
   ]
  },
  {
   "cell_type": "code",
   "execution_count": 53,
   "metadata": {},
   "outputs": [],
   "source": [
    "X_train, X_test, dict_list, dict_inv_list = cat_transform(X_train, X_test, categorical_type)"
   ]
  },
  {
   "cell_type": "code",
   "execution_count": 65,
   "metadata": {},
   "outputs": [],
   "source": [
    "X_train, X_test, y_train, y_test, scaler, scaler_y = cont_standardize(X_train, X_test, y_train, y_test, cat_type=categorical_type, id_type='Id', transform_y=True)"
   ]
  },
  {
   "cell_type": "code",
   "execution_count": 66,
   "metadata": {},
   "outputs": [
    {
     "data": {
      "text/html": [
       "<div>\n",
       "<style scoped>\n",
       "    .dataframe tbody tr th:only-of-type {\n",
       "        vertical-align: middle;\n",
       "    }\n",
       "\n",
       "    .dataframe tbody tr th {\n",
       "        vertical-align: top;\n",
       "    }\n",
       "\n",
       "    .dataframe thead th {\n",
       "        text-align: right;\n",
       "    }\n",
       "</style>\n",
       "<table border=\"1\" class=\"dataframe\">\n",
       "  <thead>\n",
       "    <tr style=\"text-align: right;\">\n",
       "      <th></th>\n",
       "      <th>Id</th>\n",
       "      <th>MSZoning</th>\n",
       "      <th>LotFrontage</th>\n",
       "      <th>Fake_Week</th>\n",
       "      <th>LotArea</th>\n",
       "      <th>Street</th>\n",
       "      <th>OverallQual</th>\n",
       "      <th>YearBuilt</th>\n",
       "      <th>CentralAir</th>\n",
       "      <th>SaleType</th>\n",
       "      <th>...</th>\n",
       "      <th>Fake_Day</th>\n",
       "      <th>Fake_Dayofweek</th>\n",
       "      <th>Fake_Dayofyear</th>\n",
       "      <th>Fake_Is_month_end</th>\n",
       "      <th>Fake_Is_month_start</th>\n",
       "      <th>Fake_Is_quarter_end</th>\n",
       "      <th>Fake_Is_quarter_start</th>\n",
       "      <th>Fake_Is_year_end</th>\n",
       "      <th>Fake_Is_year_start</th>\n",
       "      <th>Fake_Elapsed</th>\n",
       "    </tr>\n",
       "  </thead>\n",
       "  <tbody>\n",
       "    <tr>\n",
       "      <th>253</th>\n",
       "      <td>254</td>\n",
       "      <td>3</td>\n",
       "      <td>0.570755</td>\n",
       "      <td>-0.515555</td>\n",
       "      <td>-0.113494</td>\n",
       "      <td>1</td>\n",
       "      <td>5</td>\n",
       "      <td>-0.242016</td>\n",
       "      <td>1</td>\n",
       "      <td>1</td>\n",
       "      <td>...</td>\n",
       "      <td>-1.189170</td>\n",
       "      <td>-1.484321</td>\n",
       "      <td>-0.556901</td>\n",
       "      <td>-0.171679</td>\n",
       "      <td>-0.180928</td>\n",
       "      <td>-0.111456</td>\n",
       "      <td>-0.106655</td>\n",
       "      <td>-0.064084</td>\n",
       "      <td>-0.045268</td>\n",
       "      <td>-1.648408</td>\n",
       "    </tr>\n",
       "    <tr>\n",
       "      <th>1185</th>\n",
       "      <td>1186</td>\n",
       "      <td>3</td>\n",
       "      <td>-0.416423</td>\n",
       "      <td>0.870733</td>\n",
       "      <td>-0.079594</td>\n",
       "      <td>1</td>\n",
       "      <td>4</td>\n",
       "      <td>-1.588959</td>\n",
       "      <td>1</td>\n",
       "      <td>8</td>\n",
       "      <td>...</td>\n",
       "      <td>-0.623669</td>\n",
       "      <td>1.480279</td>\n",
       "      <td>0.922893</td>\n",
       "      <td>-0.171679</td>\n",
       "      <td>-0.180928</td>\n",
       "      <td>-0.111456</td>\n",
       "      <td>-0.106655</td>\n",
       "      <td>-0.064084</td>\n",
       "      <td>-0.045268</td>\n",
       "      <td>-1.231187</td>\n",
       "    </tr>\n",
       "    <tr>\n",
       "      <th>515</th>\n",
       "      <td>516</td>\n",
       "      <td>3</td>\n",
       "      <td>0.926139</td>\n",
       "      <td>0.540664</td>\n",
       "      <td>0.137262</td>\n",
       "      <td>1</td>\n",
       "      <td>9</td>\n",
       "      <td>1.273295</td>\n",
       "      <td>1</td>\n",
       "      <td>6</td>\n",
       "      <td>...</td>\n",
       "      <td>1.525232</td>\n",
       "      <td>-0.496121</td>\n",
       "      <td>0.536450</td>\n",
       "      <td>-0.171679</td>\n",
       "      <td>-0.180928</td>\n",
       "      <td>-0.111456</td>\n",
       "      <td>-0.106655</td>\n",
       "      <td>-0.064084</td>\n",
       "      <td>-0.045268</td>\n",
       "      <td>-0.907465</td>\n",
       "    </tr>\n",
       "    <tr>\n",
       "      <th>433</th>\n",
       "      <td>434</td>\n",
       "      <td>3</td>\n",
       "      <td>1.163061</td>\n",
       "      <td>0.012555</td>\n",
       "      <td>0.016602</td>\n",
       "      <td>1</td>\n",
       "      <td>5</td>\n",
       "      <td>0.869212</td>\n",
       "      <td>1</td>\n",
       "      <td>8</td>\n",
       "      <td>...</td>\n",
       "      <td>-0.962969</td>\n",
       "      <td>0.986179</td>\n",
       "      <td>0.036902</td>\n",
       "      <td>-0.171679</td>\n",
       "      <td>-0.180928</td>\n",
       "      <td>-0.111456</td>\n",
       "      <td>-0.106655</td>\n",
       "      <td>-0.064084</td>\n",
       "      <td>-0.045268</td>\n",
       "      <td>-0.932367</td>\n",
       "    </tr>\n",
       "    <tr>\n",
       "      <th>1406</th>\n",
       "      <td>1407</td>\n",
       "      <td>3</td>\n",
       "      <td>-0.021552</td>\n",
       "      <td>-0.911637</td>\n",
       "      <td>-0.192566</td>\n",
       "      <td>1</td>\n",
       "      <td>4</td>\n",
       "      <td>0.027373</td>\n",
       "      <td>1</td>\n",
       "      <td>8</td>\n",
       "      <td>...</td>\n",
       "      <td>1.412132</td>\n",
       "      <td>0.986179</td>\n",
       "      <td>-0.924493</td>\n",
       "      <td>-0.171679</td>\n",
       "      <td>-0.180928</td>\n",
       "      <td>-0.111456</td>\n",
       "      <td>-0.106655</td>\n",
       "      <td>-0.064084</td>\n",
       "      <td>-0.045268</td>\n",
       "      <td>1.422486</td>\n",
       "    </tr>\n",
       "  </tbody>\n",
       "</table>\n",
       "<p>5 rows × 22 columns</p>\n",
       "</div>"
      ],
      "text/plain": [
       "        Id MSZoning  LotFrontage  Fake_Week   LotArea Street OverallQual  \\\n",
       "253    254        3     0.570755  -0.515555 -0.113494      1           5   \n",
       "1185  1186        3    -0.416423   0.870733 -0.079594      1           4   \n",
       "515    516        3     0.926139   0.540664  0.137262      1           9   \n",
       "433    434        3     1.163061   0.012555  0.016602      1           5   \n",
       "1406  1407        3    -0.021552  -0.911637 -0.192566      1           4   \n",
       "\n",
       "      YearBuilt CentralAir SaleType  ...  Fake_Day  Fake_Dayofweek  \\\n",
       "253   -0.242016          1        1  ... -1.189170       -1.484321   \n",
       "1185  -1.588959          1        8  ... -0.623669        1.480279   \n",
       "515    1.273295          1        6  ...  1.525232       -0.496121   \n",
       "433    0.869212          1        8  ... -0.962969        0.986179   \n",
       "1406   0.027373          1        8  ...  1.412132        0.986179   \n",
       "\n",
       "      Fake_Dayofyear  Fake_Is_month_end  Fake_Is_month_start  \\\n",
       "253        -0.556901          -0.171679            -0.180928   \n",
       "1185        0.922893          -0.171679            -0.180928   \n",
       "515         0.536450          -0.171679            -0.180928   \n",
       "433         0.036902          -0.171679            -0.180928   \n",
       "1406       -0.924493          -0.171679            -0.180928   \n",
       "\n",
       "      Fake_Is_quarter_end  Fake_Is_quarter_start  Fake_Is_year_end  \\\n",
       "253             -0.111456              -0.106655         -0.064084   \n",
       "1185            -0.111456              -0.106655         -0.064084   \n",
       "515             -0.111456              -0.106655         -0.064084   \n",
       "433             -0.111456              -0.106655         -0.064084   \n",
       "1406            -0.111456              -0.106655         -0.064084   \n",
       "\n",
       "      Fake_Is_year_start  Fake_Elapsed  \n",
       "253            -0.045268     -1.648408  \n",
       "1185           -0.045268     -1.231187  \n",
       "515            -0.045268     -0.907465  \n",
       "433            -0.045268     -0.932367  \n",
       "1406           -0.045268      1.422486  \n",
       "\n",
       "[5 rows x 22 columns]"
      ]
     },
     "execution_count": 66,
     "metadata": {},
     "output_type": "execute_result"
    }
   ],
   "source": [
    "X_train.head()"
   ]
  },
  {
   "cell_type": "code",
   "execution_count": 67,
   "metadata": {},
   "outputs": [
    {
     "data": {
      "text/plain": [
       "array([[-0.2703821 ],\n",
       "       [-0.96272526],\n",
       "       [ 2.92223258],\n",
       "       [ 0.02950289],\n",
       "       [-0.59634404]])"
      ]
     },
     "execution_count": 67,
     "metadata": {},
     "output_type": "execute_result"
    }
   ],
   "source": [
    "y_train[:5]"
   ]
  },
  {
   "cell_type": "markdown",
   "metadata": {},
   "source": [
    "Absolutely brilliant. Look how easy and fast we pre-processed our data. We now can start any Machine Learning Algorithm we want. It's super easy to replicate the results, because we saved the mapping and the scaler. We automatically created train and testset, we are flexible to use this in any way we want to split our data. I hope this will come in handy for your next machine learning project.\n",
    "\n",
    "Stay tuned for the next blogpost!\n",
    "\n",
    "Lasse"
   ]
  }
 ],
 "metadata": {
  "kernelspec": {
   "display_name": "Python 3",
   "language": "python",
   "name": "python3"
  },
  "language_info": {
   "codemirror_mode": {
    "name": "ipython",
    "version": 3
   },
   "file_extension": ".py",
   "mimetype": "text/x-python",
   "name": "python",
   "nbconvert_exporter": "python",
   "pygments_lexer": "ipython3",
   "version": "3.8.5"
  }
 },
 "nbformat": 4,
 "nbformat_minor": 4
}
