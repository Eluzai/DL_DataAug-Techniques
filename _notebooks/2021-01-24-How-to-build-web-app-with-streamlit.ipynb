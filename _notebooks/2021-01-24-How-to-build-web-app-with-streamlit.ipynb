{
 "cells": [
  {
   "cell_type": "markdown",
   "metadata": {},
   "source": [
    "# How to build a web app with Streamlit"
   ]
  },
  {
   "cell_type": "markdown",
   "metadata": {},
   "source": [
    "## Combine Streamlit and Heroku to easily build and deploy a machine learning web-app  "
   ]
  },
  {
   "cell_type": "markdown",
   "metadata": {},
   "source": [
    "In this blog post I want to show how easy it is to build a web application with [Streamlit](https://www.streamlit.io/) and then use [Heroku](https://dashboard.heroku.com/) to deploy it and make it accessible for everyone. For this small web-app, I want to detect blobs in a given image. Furthermore, I want to be able to fiddle around with the parameters within the model and see the results immediately on the webpage. So let's first start with building our python program to detect blobs. "
   ]
  },
  {
   "cell_type": "markdown",
   "metadata": {},
   "source": [
    "For this, we will make use of opencv-python, which already has a class with which we can detect blobs in images: the [SimpleBlobDetector](https://docs.opencv.org/3.4/d8/da7/structcv_1_1SimpleBlobDetector_1_1Params.html)"
   ]
  },
  {
   "cell_type": "code",
   "execution_count": 4,
   "metadata": {},
   "outputs": [],
   "source": [
    "import cv2\n",
    "\n",
    "blob_params = cv2.SimpleBlobDetector_Params()\n",
    "blob_params.filterByInertia = False\n",
    "blob_params.filterByConvexity = False\n",
    "blob_params.filterByColor = True\n",
    "blob_params.blobColor = 0\n",
    "blob_params.filterByCircularity = True\n",
    "blob_params.filterByArea = False\n",
    "blob_detector = cv2.SimpleBlobDetector_create(blob_params)"
   ]
  },
  {
   "cell_type": "markdown",
   "metadata": {},
   "source": [
    "These are some of the parameters the class has got. Next, we fetch an image and use the algorithm to detect the biggest blob detected."
   ]
  },
  {
   "cell_type": "code",
   "execution_count": null,
   "metadata": {},
   "outputs": [],
   "source": [
    "keypoints = blob_detector.detect(openCVim)\n",
    "\n",
    "# find largest blob\n",
    "if len(keypoints) > 0:\n",
    "    kp_max = keypoints[0]\n",
    "    for kp in keypoints:\n",
    "        if kp.size > kp_max.size:\n",
    "            kp_max = kp"
   ]
  },
  {
   "cell_type": "markdown",
   "metadata": {},
   "source": [
    "And that's pretty much it. openCVim will be the input of our model, and kp_max the keypoint with the biggest size. What we need now is streamlit to easily create a webpage which will use this model."
   ]
  },
  {
   "cell_type": "code",
   "execution_count": null,
   "metadata": {},
   "outputs": [],
   "source": [
    "import streamlit as st\n",
    "\n",
    "st.write(\"\"\"\n",
    "# Simple Blob Detection App\n",
    "Upload your image and see where the Blob is!\n",
    "\"\"\")\n",
    "\n",
    "st.sidebar.header('User Input Parameters')"
   ]
  },
  {
   "cell_type": "markdown",
   "metadata": {},
   "source": [
    "It's that easy. We created a header for our webpage and a sidebar with a different header. In this sidebar, we want to be able to fiddle around with some of the blob_params."
   ]
  },
  {
   "cell_type": "code",
   "execution_count": null,
   "metadata": {},
   "outputs": [],
   "source": [
    "def user_input_features():\n",
    "    minCircularity = st.sidebar.slider('minCircularity', 0., 1., 0.8)\n",
    "    minArea = st.sidebar.slider('minArea', 0, 1, 10)\n",
    "    maxArea = st.sidebar.slider('maxArea', 0, 1, 100000)\n",
    "    \n",
    "    data = {'minCircularity': minCircularity,\n",
    "            'minArea': minArea,\n",
    "            'maxArea': maxArea}\n",
    "    features = pd.DataFrame(data, index=[0])\n",
    "    return features\n",
    "\n",
    "\n",
    "df = user_input_features()\n",
    "\n",
    "blob_params.minCircularity = df.minCircularity.values.item()\n",
    "blob_params.minArea = df.minArea.values.item()\n",
    "blob_params.maxArea = df.maxArea.values.item()\n",
    "\n",
    "st.subheader('User Input parameters')\n",
    "st.write(df)"
   ]
  },
  {
   "cell_type": "markdown",
   "metadata": {},
   "source": [
    "We defined a function, which uses streamlits sidebar.slider function. The first value is the lowest value the slider can be, the second the largest value the slider can be and the last value is the default value. We then use these values to create a dataframe, which we use to fill the blob_params. So each time the user changes one of the values via the slider, the model get's a different parameter input and will automatically rerun the model. With st.subheader we give a subheader and then show the dataframe to the user with the chosen parameters."
   ]
  },
  {
   "cell_type": "code",
   "execution_count": null,
   "metadata": {},
   "outputs": [],
   "source": [
    "uploaded_file = st.file_uploader(\"Choose an image...\", type=\"jpg\")\n",
    "\n",
    "if uploaded_file is not None:   \n",
    "    # Read in and make greyscale\n",
    "    PILim = Image.open(uploaded_file).convert('L')\n",
    "    # Make Numpy/OpenCV-compatible version\n",
    "    openCVim = np.array(PILim)\n",
    "    openCVim = cv2.bitwise_not(openCVim)\n",
    "    st.image(openCVim, caption='Uploaded Image.', use_column_width=True)"
   ]
  },
  {
   "cell_type": "markdown",
   "metadata": {},
   "source": [
    "Next, the user should upload an image. Only when this file is not None we will proceed with our modeling. We read the image in with PIL, put it to grayscale (in my experience for blob-detection that worked better) and transform it to an numpy array, which cv2 needs to create the model. "
   ]
  },
  {
   "cell_type": "code",
   "execution_count": null,
   "metadata": {},
   "outputs": [],
   "source": [
    "keypoints = blob_detector.detect(openCVim)\n",
    "\n",
    "# find largest blob\n",
    "if len(keypoints) > 0:\n",
    "    kp_max = keypoints[0]\n",
    "    for kp in keypoints:\n",
    "        if kp.size > kp_max.size:\n",
    "            kp_max = kp\n",
    "\n",
    "pts = np.array([kp_max.pt])\n",
    "\n",
    "data_coordinates = {'x_coordinate': int(pts[:, 0]),\n",
    "        'y_coordinate': int(pts[:, 1])}    \n",
    "df_coordinates = pd.DataFrame(data_coordinates, index=[0])   \n",
    "\n",
    "im_with_keypoints = cv2.cvtColor(openCVim,cv2.COLOR_GRAY2RGB)\n",
    "#     im_with_keypoints = cv2.circle(openCVim, (int(pts[:, 0]), int(pts[:, 1])), 50, color=(0,255,0), thickness=30, lineType=8, shift=0)\n",
    "im_with_keypoints = cv2.drawKeypoints(im_with_keypoints, [kp_max], np.array([]), (0,0,255), cv2.DRAW_MATCHES_FLAGS_DRAW_RICH_KEYPOINTS)\n",
    "\n",
    "st.image(im_with_keypoints, caption='Image with Blob.', use_column_width=True)\n",
    "\n",
    "st.write(df_coordinates)"
   ]
  },
  {
   "cell_type": "markdown",
   "metadata": {},
   "source": [
    "Still in the if statement we progress by building the model, get the biggest blob and get the coordinates by calling kp_max.pt. We store these values in a dictionary to put it in a dataframe, which we show at the end of the page. We also use the coordinates to mark the calculated keypoint. Finally, we return the image with a circle around the detected image to the user."
   ]
  },
  {
   "cell_type": "markdown",
   "metadata": {},
   "source": [
    "And that's it, we build a fully functional web-app with streamlit. Finally, we want to deploy it on Heroku. After creating an account it should look something like this:"
   ]
  },
  {
   "cell_type": "markdown",
   "metadata": {},
   "source": [
    "![image info](./Images/Streamlit-Heroku/heroku_01.PNG)"
   ]
  },
  {
   "cell_type": "markdown",
   "metadata": {},
   "source": [
    "Click on \"Create new App\"."
   ]
  },
  {
   "cell_type": "markdown",
   "metadata": {},
   "source": [
    "![image info](./Images/Streamlit-Heroku/heroku_02.PNG)"
   ]
  },
  {
   "cell_type": "markdown",
   "metadata": {},
   "source": [
    "![image info](./Images/Streamlit-Heroku/heroku_03.PNG)"
   ]
  },
  {
   "cell_type": "markdown",
   "metadata": {},
   "source": [
    "Use your git-repository to let Heroku deploy the web-app for you, click on connect and your done! It's that easy. Heroku requires three more files in your repository: \n",
    "\n",
    "⋅⋅* requirements.txt, where you specify the packages you use and the respective version\n",
    "⋅⋅* Procfile, which tells Heroku how to start the Streamlit-app\n",
    "⋅⋅* setup.sh, which is a shell script which tells the Heroku server how to deploy the Streamlit-app\n",
    "\n",
    "Simply check out my [git repository](https://github.com/lschmiddey/blob_detection_app) for an example."
   ]
  },
  {
   "cell_type": "markdown",
   "metadata": {},
   "source": [
    "After all is said and done, this is how the app looks like:"
   ]
  },
  {
   "cell_type": "markdown",
   "metadata": {},
   "source": [
    "![image info](./Images/Streamlit-Heroku/streamlit_01.PNG)"
   ]
  },
  {
   "cell_type": "markdown",
   "metadata": {},
   "source": [
    "![image info](./Images/Streamlit-Heroku/streamlit_02.PNG)"
   ]
  },
  {
   "cell_type": "markdown",
   "metadata": {},
   "source": [
    "![image info](./Images/Streamlit-Heroku/streamlit_03.PNG)"
   ]
  },
  {
   "cell_type": "markdown",
   "metadata": {},
   "source": [
    "Or simply check out the [web-page](https://blob-detection.herokuapp.com/)."
   ]
  },
  {
   "cell_type": "markdown",
   "metadata": {},
   "source": [
    "I hope you enjoyed this post and stay tuned for the next one.\n",
    "\n",
    "Lasse"
   ]
  }
 ],
 "metadata": {
  "kernelspec": {
   "display_name": "Python 3",
   "language": "python",
   "name": "python3"
  },
  "language_info": {
   "codemirror_mode": {
    "name": "ipython",
    "version": 3
   },
   "file_extension": ".py",
   "mimetype": "text/x-python",
   "name": "python",
   "nbconvert_exporter": "python",
   "pygments_lexer": "ipython3",
   "version": "3.8.5"
  }
 },
 "nbformat": 4,
 "nbformat_minor": 4
}
