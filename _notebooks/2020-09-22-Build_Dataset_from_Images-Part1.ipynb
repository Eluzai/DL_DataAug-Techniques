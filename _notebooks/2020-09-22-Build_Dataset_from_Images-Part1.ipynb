{
 "cells": [
  {
   "cell_type": "markdown",
   "metadata": {},
   "source": [
    "# Teach Python how to read"
   ]
  },
  {
   "cell_type": "markdown",
   "metadata": {},
   "source": [
    "## Using PIL and pytesseract "
   ]
  },
  {
   "cell_type": "markdown",
   "metadata": {},
   "source": [
    "This is the first blogpost of a three to four (I haven't decided yet) part project. The main idea is that I want to create a model which will tell me how much I would like the book, given an image of a page as in input. \n",
    "\n",
    "In this part, I will show you how to turn a image of text into actual text, using pytesseract. So let's first get our packages."
   ]
  },
  {
   "cell_type": "markdown",
   "metadata": {},
   "source": [
    "## Import packages"
   ]
  },
  {
   "cell_type": "code",
   "execution_count": 1,
   "metadata": {},
   "outputs": [],
   "source": [
    "import numpy as np\n",
    "from pathlib import Path\n",
    "import pytesseract\n",
    "import re\n",
    "from PIL import Image, ImageFilter \n",
    "import pandas as pd"
   ]
  },
  {
   "cell_type": "markdown",
   "metadata": {},
   "source": [
    "## Define PosixPath to data"
   ]
  },
  {
   "cell_type": "markdown",
   "metadata": {},
   "source": [
    "I took about 100 images of pages from books I own (all in German). I then put them in an image folder, let's have a look at the directory."
   ]
  },
  {
   "cell_type": "code",
   "execution_count": 2,
   "metadata": {},
   "outputs": [],
   "source": [
    "p = Path('../storage/data/book_text_images/')"
   ]
  },
  {
   "cell_type": "code",
   "execution_count": 3,
   "metadata": {},
   "outputs": [],
   "source": [
    "img_paths = [x for x in p.iterdir()]"
   ]
  },
  {
   "cell_type": "code",
   "execution_count": 5,
   "metadata": {},
   "outputs": [
    {
     "data": {
      "text/plain": [
       "'IMG_5123_gegendenStrich.jpg'"
      ]
     },
     "execution_count": 5,
     "metadata": {},
     "output_type": "execute_result"
    }
   ],
   "source": [
    "img_paths[0].parts[4]"
   ]
  },
  {
   "cell_type": "markdown",
   "metadata": {},
   "source": [
    "## Use regex to extract title of book"
   ]
  },
  {
   "cell_type": "markdown",
   "metadata": {},
   "source": [
    "Next to the text from the image, I would like to extract the title of the book so I can later easily join my ratings to the texts. I therefore use a regex."
   ]
  },
  {
   "cell_type": "code",
   "execution_count": 6,
   "metadata": {
    "scrolled": true
   },
   "outputs": [],
   "source": [
    "title_list = [re.match(\"^.*\\_(.*)\\..*$\",img_paths[i].parts[4]).group(1) for i in range(len(img_paths))]"
   ]
  },
  {
   "cell_type": "markdown",
   "metadata": {},
   "source": [
    "## Automatically read in images, transform them and get text"
   ]
  },
  {
   "cell_type": "markdown",
   "metadata": {},
   "source": [
    "We use pytesseract for extracting the text from the images. To improve the performance I tried a lot of data transformation: cropping, binarizing and a lot more. The only thing that worked for me was to first rotate the image and then use a MedianFilter."
   ]
  },
  {
   "cell_type": "code",
   "execution_count": 7,
   "metadata": {},
   "outputs": [],
   "source": [
    "def proc_img(img_path):\n",
    "    im1 = Image.open(img_path) \n",
    "\n",
    "    im1 = im1.rotate(angle=270, resample=0, expand=10, center=None, translate=None, fillcolor=None)\n",
    "\n",
    "    im1 = im1.filter(ImageFilter.MedianFilter)\n",
    "    \n",
    "    return im1"
   ]
  },
  {
   "cell_type": "markdown",
   "metadata": {},
   "source": [
    "All of my input images are from german books, so I need to use lang=\"deu\"."
   ]
  },
  {
   "cell_type": "code",
   "execution_count": 8,
   "metadata": {},
   "outputs": [],
   "source": [
    "def get_text(img):\n",
    "    return pytesseract.image_to_string(img, lang=\"deu\")"
   ]
  },
  {
   "cell_type": "markdown",
   "metadata": {},
   "source": [
    "I again use a regular expression to get rid of common mistakes pytesseract does: putting a \\n somewhere or confusing a s for a 5."
   ]
  },
  {
   "cell_type": "code",
   "execution_count": 9,
   "metadata": {},
   "outputs": [],
   "source": [
    "def use_pattern(text):\n",
    "    return pattern.sub(lambda m: rep[re.escape(m.group(0))], text)"
   ]
  },
  {
   "cell_type": "code",
   "execution_count": 10,
   "metadata": {},
   "outputs": [],
   "source": [
    "rep = {\"\\n\": \"\", \"`\": \"\", '%':\"\", '°': '', '&':'', '‘':'', '€':'e', '®':'', '\\\\': '', '5':'s', '1':'i', '_':'', '-':''} # define desired replacements here\n",
    "\n",
    "# use these three lines to do the replacement\n",
    "rep = dict((re.escape(k), v) for k, v in rep.items()) \n",
    "#Python 3 renamed dict.iteritems to dict.items so use rep.items() for latest versions\n",
    "pattern = re.compile(\"|\".join(rep.keys()))"
   ]
  },
  {
   "cell_type": "markdown",
   "metadata": {},
   "source": [
    "## Use tesseract to make image into text"
   ]
  },
  {
   "cell_type": "markdown",
   "metadata": {},
   "source": [
    "Finally, we use a list comprehension (they're super useful) to put all of the text into a list of texts."
   ]
  },
  {
   "cell_type": "code",
   "execution_count": 11,
   "metadata": {},
   "outputs": [],
   "source": [
    "text_list = [use_pattern(get_text(proc_img(str(img_paths[i])))) for i in range(len(img_paths))]"
   ]
  },
  {
   "cell_type": "markdown",
   "metadata": {},
   "source": [
    "## Combine into Dataframe"
   ]
  },
  {
   "cell_type": "markdown",
   "metadata": {},
   "source": [
    "And now let's put that into a pandas dataframe."
   ]
  },
  {
   "cell_type": "code",
   "execution_count": 12,
   "metadata": {
    "scrolled": true
   },
   "outputs": [
    {
     "data": {
      "text/html": [
       "<div>\n",
       "<style scoped>\n",
       "    .dataframe tbody tr th:only-of-type {\n",
       "        vertical-align: middle;\n",
       "    }\n",
       "\n",
       "    .dataframe tbody tr th {\n",
       "        vertical-align: top;\n",
       "    }\n",
       "\n",
       "    .dataframe thead th {\n",
       "        text-align: right;\n",
       "    }\n",
       "</style>\n",
       "<table border=\"1\" class=\"dataframe\">\n",
       "  <thead>\n",
       "    <tr style=\"text-align: right;\">\n",
       "      <th></th>\n",
       "      <th>text</th>\n",
       "      <th>title</th>\n",
       "    </tr>\n",
       "  </thead>\n",
       "  <tbody>\n",
       "    <tr>\n",
       "      <th>0</th>\n",
       "      <td>war ein schrecklicher Rückfall eingetreten.In ...</td>\n",
       "      <td>gegendenStrich</td>\n",
       "    </tr>\n",
       "    <tr>\n",
       "      <th>1</th>\n",
       "      <td>höchst moralischer Akt, die Welt von einem sol...</td>\n",
       "      <td>derSeewolf</td>\n",
       "    </tr>\n",
       "    <tr>\n",
       "      <th>2</th>\n",
       "      <td>deutsches Luder nehmen. Und sollten Sie es dan...</td>\n",
       "      <td>ButchersCrossing</td>\n",
       "    </tr>\n",
       "    <tr>\n",
       "      <th>3</th>\n",
       "      <td>müssen.»Sie kamen jetzt in die Vorstadt. Die S...</td>\n",
       "      <td>diePest</td>\n",
       "    </tr>\n",
       "    <tr>\n",
       "      <th>4</th>\n",
       "      <td>ins Gesicht, wandte sich von ihrem traurigen A...</td>\n",
       "      <td>diePest</td>\n",
       "    </tr>\n",
       "  </tbody>\n",
       "</table>\n",
       "</div>"
      ],
      "text/plain": [
       "                                                text             title\n",
       "0  war ein schrecklicher Rückfall eingetreten.In ...    gegendenStrich\n",
       "1  höchst moralischer Akt, die Welt von einem sol...        derSeewolf\n",
       "2  deutsches Luder nehmen. Und sollten Sie es dan...  ButchersCrossing\n",
       "3  müssen.»Sie kamen jetzt in die Vorstadt. Die S...           diePest\n",
       "4  ins Gesicht, wandte sich von ihrem traurigen A...           diePest"
      ]
     },
     "execution_count": 12,
     "metadata": {},
     "output_type": "execute_result"
    }
   ],
   "source": [
    "d = {'text':text_list,'title':title_list}\n",
    "df = pd.DataFrame(d) \n",
    "df.head()"
   ]
  },
  {
   "cell_type": "code",
   "execution_count": 20,
   "metadata": {},
   "outputs": [
    {
     "data": {
      "text/plain": [
       "'müssen.»Sie kamen jetzt in die Vorstadt. Die Scheinwerfer beleuchteten die menschenleeren Straßen. Sie hielten an.Vor dem Auto fragte Rieux Tarrou, ob er mitkommenwolle, und der sagte ja. Ein Schimmer vom Himmel er—hellte ihre Gesichter; Rieux lachte plötzlich freundschaftlich.« Sagen Sie, Teirrou, was treibt Sie dazu, sich damit zubefassen? »«Ich weiß nicht. Meine Moral vielleicht.»«Und die wäre? »«Verständnis.»Tarrou wandte sich dem Haus zu, und Rieux sah erstwieder sein Gesicht, als sie bei dem alten Asthmatikerwaren.'"
      ]
     },
     "execution_count": 20,
     "metadata": {},
     "output_type": "execute_result"
    }
   ],
   "source": [
    "df.text[3]"
   ]
  },
  {
   "cell_type": "markdown",
   "metadata": {},
   "source": [
    "Looking good! For this project I also need my ratings for each of the books. I use a dictionary and the map function to easily create a column with my ratings."
   ]
  },
  {
   "cell_type": "markdown",
   "metadata": {},
   "source": [
    "## Use Dictionary to map my ratings"
   ]
  },
  {
   "cell_type": "code",
   "execution_count": 14,
   "metadata": {},
   "outputs": [],
   "source": [
    "rating_lasse = {'derPate': 5,\n",
    "                 'ButchersCrossing': 4,\n",
    "                 'derSeewolf': 5,\n",
    "                 'JekyllandHyde': 4,\n",
    "                 'gegendenStrich': 1,\n",
    "                 'FruestueckmitKaengurus': 5,\n",
    "                 'HuckleberryFinn': 4,\n",
    "                 'diePest': 2,\n",
    "                 'HerzderFinsternis': 3,\n",
    "                 'derSpieler': 4}"
   ]
  },
  {
   "cell_type": "code",
   "execution_count": 15,
   "metadata": {},
   "outputs": [],
   "source": [
    "df['rating'] = df['title'].map(rating_lasse)"
   ]
  },
  {
   "cell_type": "code",
   "execution_count": 16,
   "metadata": {},
   "outputs": [
    {
     "data": {
      "text/html": [
       "<div>\n",
       "<style scoped>\n",
       "    .dataframe tbody tr th:only-of-type {\n",
       "        vertical-align: middle;\n",
       "    }\n",
       "\n",
       "    .dataframe tbody tr th {\n",
       "        vertical-align: top;\n",
       "    }\n",
       "\n",
       "    .dataframe thead th {\n",
       "        text-align: right;\n",
       "    }\n",
       "</style>\n",
       "<table border=\"1\" class=\"dataframe\">\n",
       "  <thead>\n",
       "    <tr style=\"text-align: right;\">\n",
       "      <th></th>\n",
       "      <th>text</th>\n",
       "      <th>title</th>\n",
       "      <th>rating</th>\n",
       "    </tr>\n",
       "  </thead>\n",
       "  <tbody>\n",
       "    <tr>\n",
       "      <th>0</th>\n",
       "      <td>war ein schrecklicher Rückfall eingetreten.In ...</td>\n",
       "      <td>gegendenStrich</td>\n",
       "      <td>1</td>\n",
       "    </tr>\n",
       "    <tr>\n",
       "      <th>1</th>\n",
       "      <td>höchst moralischer Akt, die Welt von einem sol...</td>\n",
       "      <td>derSeewolf</td>\n",
       "      <td>5</td>\n",
       "    </tr>\n",
       "    <tr>\n",
       "      <th>2</th>\n",
       "      <td>deutsches Luder nehmen. Und sollten Sie es dan...</td>\n",
       "      <td>ButchersCrossing</td>\n",
       "      <td>4</td>\n",
       "    </tr>\n",
       "    <tr>\n",
       "      <th>3</th>\n",
       "      <td>müssen.»Sie kamen jetzt in die Vorstadt. Die S...</td>\n",
       "      <td>diePest</td>\n",
       "      <td>2</td>\n",
       "    </tr>\n",
       "    <tr>\n",
       "      <th>4</th>\n",
       "      <td>ins Gesicht, wandte sich von ihrem traurigen A...</td>\n",
       "      <td>diePest</td>\n",
       "      <td>2</td>\n",
       "    </tr>\n",
       "  </tbody>\n",
       "</table>\n",
       "</div>"
      ],
      "text/plain": [
       "                                                text             title  rating\n",
       "0  war ein schrecklicher Rückfall eingetreten.In ...    gegendenStrich       1\n",
       "1  höchst moralischer Akt, die Welt von einem sol...        derSeewolf       5\n",
       "2  deutsches Luder nehmen. Und sollten Sie es dan...  ButchersCrossing       4\n",
       "3  müssen.»Sie kamen jetzt in die Vorstadt. Die S...           diePest       2\n",
       "4  ins Gesicht, wandte sich von ihrem traurigen A...           diePest       2"
      ]
     },
     "execution_count": 16,
     "metadata": {},
     "output_type": "execute_result"
    }
   ],
   "source": [
    "df.head()"
   ]
  },
  {
   "cell_type": "markdown",
   "metadata": {},
   "source": [
    "And that's it, let's save this dataframe and we're ready to move on to the model training!"
   ]
  },
  {
   "cell_type": "code",
   "execution_count": 24,
   "metadata": {},
   "outputs": [],
   "source": [
    "df.to_csv(p/'datasets/text_df.csv', encoding='utf8', index=False)"
   ]
  },
  {
   "cell_type": "markdown",
   "metadata": {},
   "source": [
    "I hope you enjoyed this blogpost and stay tuned for the next one!\n",
    "\n",
    "Lasse"
   ]
  }
 ],
 "metadata": {
  "kernelspec": {
   "display_name": "Python 3",
   "language": "python",
   "name": "python3"
  },
  "language_info": {
   "codemirror_mode": {
    "name": "ipython",
    "version": 3
   },
   "file_extension": ".py",
   "mimetype": "text/x-python",
   "name": "python",
   "nbconvert_exporter": "python",
   "pygments_lexer": "ipython3",
   "version": "3.8.5"
  }
 },
 "nbformat": 4,
 "nbformat_minor": 4
}
