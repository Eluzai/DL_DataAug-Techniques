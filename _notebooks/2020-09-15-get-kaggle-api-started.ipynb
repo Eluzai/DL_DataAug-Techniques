{
 "cells": [
  {
   "cell_type": "markdown",
   "metadata": {},
   "source": [
    "# How to get the kaggle API started"
   ]
  },
  {
   "cell_type": "markdown",
   "metadata": {},
   "source": [
    "## Easy way to download datasets from kaggle from your terminal"
   ]
  },
  {
   "cell_type": "markdown",
   "metadata": {},
   "source": [
    "In this blog post I would like to show you how to use [kaggles api](https://www.kaggle.com/docs/api). And not only that, I will show you how to directly use this API from Jupyter. It's straightforward and shouldn't take longer than 5 minutes. Let's get started!"
   ]
  },
  {
   "cell_type": "markdown",
   "metadata": {},
   "source": [
    "First of all, log in into your kaggle account and go to \"Your Account\". Scroll down until you find the section API. Click on \"Create New API Token\"."
   ]
  },
  {
   "cell_type": "markdown",
   "metadata": {},
   "source": [
    "![image info](./Images/kaggle_API/01_Create_new_api_token.PNG)"
   ]
  },
  {
   "cell_type": "markdown",
   "metadata": {},
   "source": [
    "Next, upload your downloaded token into a directory to which you have access to. In this blogpost, I use my Cloud Working Space on Paperspace (how to easily set up your own working space in Paperspace click [here](https://lschmiddey.github.io/fastpages_/2020/09/12/Setup-Paperspace.html). "
   ]
  },
  {
   "cell_type": "markdown",
   "metadata": {},
   "source": [
    "![image info](./Images/kaggle_API/04_Upload_Paperspace.PNG)"
   ]
  },
  {
   "cell_type": "markdown",
   "metadata": {},
   "source": [
    "Note however, that kaggle expects your token to be at a specific folder: ~/.kaggle/kaggle.json on Linux, OSX, and other UNIX-based operating systems, and at C:\\Users<Windows-username.kaggle\\kaggle.json on Windows. So that's what we will do next. Just open your Terminal and move your token to the expected folder."
   ]
  },
  {
   "cell_type": "markdown",
   "metadata": {},
   "source": [
    "![image info](./Images/kaggle_API/06_Terminal_move_token.PNG)"
   ]
  },
  {
   "cell_type": "markdown",
   "metadata": {},
   "source": [
    "And that's it, you can now use the kaggle API! If you (like me) use a remote computing instance, we don't want other user to possible use our token. We can prevent this by typing:"
   ]
  },
  {
   "cell_type": "markdown",
   "metadata": {},
   "source": [
    "![image info](./Images/kaggle_API/07_Terminal_make_token_private.PNG)"
   ]
  },
  {
   "cell_type": "markdown",
   "metadata": {},
   "source": [
    "Let's see how the kaggle API works. First of all, we need to pip install the package."
   ]
  },
  {
   "cell_type": "markdown",
   "metadata": {},
   "source": [
    "![image info](./Images/kaggle_API/05_Terminal_pip_install.PNG)"
   ]
  },
  {
   "cell_type": "markdown",
   "metadata": {},
   "source": [
    "If you are looking for a specific dataset, you can now use the kaggle API and simply type:"
   ]
  },
  {
   "cell_type": "markdown",
   "metadata": {},
   "source": [
    "![image info](./Images/kaggle_API/08_Use_kaggle_API.PNG)"
   ]
  },
  {
   "cell_type": "markdown",
   "metadata": {},
   "source": [
    "If you want to download data from this API, you write:"
   ]
  },
  {
   "cell_type": "markdown",
   "metadata": {},
   "source": [
    "![image info](./Images/kaggle_API/09_Use_kaggle_API_for_Download.PNG)"
   ]
  },
  {
   "cell_type": "markdown",
   "metadata": {},
   "source": [
    "In that way you can easily access kaggle datasets and make that work even on cloud computing instances. \n",
    "\n",
    "Stay tuned for the next blogpost!\n",
    "\n",
    "Lasse"
   ]
  }
 ],
 "metadata": {
  "kernelspec": {
   "display_name": "Python 3",
   "language": "python",
   "name": "python3"
  },
  "language_info": {
   "codemirror_mode": {
    "name": "ipython",
    "version": 3
   },
   "file_extension": ".py",
   "mimetype": "text/x-python",
   "name": "python",
   "nbconvert_exporter": "python",
   "pygments_lexer": "ipython3",
   "version": "3.8.5"
  }
 },
 "nbformat": 4,
 "nbformat_minor": 4
}
