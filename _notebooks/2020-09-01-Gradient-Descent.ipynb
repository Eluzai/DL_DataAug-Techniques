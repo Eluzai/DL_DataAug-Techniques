{
  "nbformat": 4,
  "nbformat_minor": 0,
  "metadata": {
    "colab": {
      "name": "Gradient_Descent.ipynb",
      "provenance": [],
      "collapsed_sections": [],
      "authorship_tag": "ABX9TyOUnOPrlIg1K41e6UHZ59/z",
      "include_colab_link": true
    },
    "kernelspec": {
      "name": "python3",
      "display_name": "Python 3"
    }
  },
  "cells": [
    {
      "cell_type": "markdown",
      "metadata": {
        "id": "view-in-github",
        "colab_type": "text"
      },
      "source": [
        "<a href=\"https://colab.research.google.com/github/lschmiddey/fastpages_/blob/master/_notebooks/2020-09-01-Gradient-Descent.ipynb\" target=\"_parent\"><img src=\"https://colab.research.google.com/assets/colab-badge.svg\" alt=\"Open In Colab\"/></a>"
      ]
    },
    {
      "cell_type": "markdown",
      "metadata": {
        "id": "-DQdtwOvPiIW",
        "colab_type": "text"
      },
      "source": [
        "# Was ist Gradient Descent und wie funktioniert es?"
      ]
    },
    {
      "cell_type": "markdown",
      "metadata": {
        "id": "j6QUwOuiRyN5",
        "colab_type": "text"
      },
      "source": [
        "## Eine Coding Anleitung\n",
        "\n",
        "(dieser Beitrag basiert lose auf dem von fastai zur Verfügung gestellten [fastbook](https://github.com/fastai/fastbook))\n",
        "\n",
        "Dieser Blog Post ist nicht dafür gedacht aufzuzeigen, wie die mathematische Berechnung hinter Gradient Descent funktioniert. Denn zum Glück gibt es genau dafür Computer, die das Ganze wahrscheinlich millionenfach schneller berechnen können als wir. Ich will eine intuitive Erklärung für Gradient Descent liefern, wofür wir Gradient Descent überhaupt brauchen und wie wir mit simplen Python Code unseren eigenen auf Gradient Descent beruhenden Algorithmus bauen können.\n",
        "\n",
        "Ich erinnere mich, dass ich zu Schulzeiten (und mehr als Abi-Mathe wird für diesen Post wahrhaftig nicht gebraucht) die Ableitungsregeln gelernt und auf Funktionen angewandt habe, aber wirklich Sinn und Zweck habe ich in dem Ganzen nie gesehen. Im besten Fall hat sich die Lehrerin einen an den Haaren herbeigezogenen Fall ausgedacht, um nicht einfach stumpf die Funktion zu liefern, die abgeleitet werden soll. Ich hoffe nach diesem Blog wird klarer, weswegen Ableitungen bzw. die dazugehörigen Gradienten doch eine ziemlich coole und nützliche Sache sind. \n",
        "\n",
        "Zunächst einmal möchte ich zeigen, was Gradient Descent kann:\n",
        "\n",
        "\n"
      ]
    },
    {
      "cell_type": "markdown",
      "metadata": {
        "id": "WCL6KwSqVPrY",
        "colab_type": "text"
      },
      "source": [
        "Ein Algorithmus, der erkennen kann, was für ein Bär auf einem gegebenem Bild zu sehen ist? Was zur Hölle hat das mit Gradient Descent zu tun? Wenn du es bis zum Ende des Posts aushältst, wirst du das hoffentlich verstehen.\n",
        "\n",
        "Gradient Descent hilft Computern dabei zu lernen. Das Ganze sollten wir uns vielleicht in einem Schaubild einmal näher anschauen:\n",
        "\n",
        "![]({{site.baseurl}}/images/Schaubild_ML_Prozess.png "https://github.com/lschmiddey/fastpages_")"
      ]
    },
    {
      "cell_type": "markdown",
      "metadata": {
        "id": "0vrcIwa_WiDn",
        "colab_type": "text"
      },
      "source": [
        "Die Idee ist dabei wie folgt: Wir haben ein Modell, welches anhand von Bildern erkennen soll, welche Art von Bär hier zu sehen ist. Nachdem wir genügend Bilder von verschiedenen Bären gesammelt haben, fangen wir an unser Modell zu fragen, was es glaubt für eine Art von Bären zu sehen (predict). Wir können uns nun Metriken überlegen, an denen wir erkennen können, wie gut diese Vorhersage unseres Modells ist, zum Beispiel wie häufig das Modell die richtige Bärenart vorhergesagt hat und wie häufig es falsch lag. Wir können daraus einen sogenannten Loss berechnen, was nichts anderes ist als das, was die Lehrer uns immer als Funktion beschrieben haben. Wir haben also eine Funktion die uns angibt, wie gut/schlecht unser Modell Bärenarten vorhersagen kann. Diese Funktion kann zum Beispiel eine simple quadratische Funktion sein, sie kann aber theoretisch jede nur erdenkliche Form annehmen. \n",
        "\n",
        "Wir wollen unseren Loss minimieren, sprich unsere Funktion soll so gut wie es nur kann die Funktion lernen, wie es möglichst gut Bärenarten voneinander unterscheiden kann. Lass uns eine Sekunde darüber nachdenken. Wir benutzen eine Loss-Funktion, damit wir unserem Modell Feedback geben, wie gut/schlecht es die bisherige Aufgabe gelöst hat. Mithilfe dieser Loss-Funktion lernt unser Modell, die verschiedenen Bärenarten besser zu unterscheiden. Doch wie \"lernt\" das Modell? Hier kommt Gradient Descent ins Spiel.\n",
        "\n",
        "Der Gradient, also die Ableitung, gibt uns an, um wie viel die Funktion größer wird, wenn wir (optisch gesprochen) einen kleinen Schritt nach rechts bzw. einen kleinen Schritt nach links gehen von dem Punkt, an dem wir uns gerade befinden. Dies ist die Steigung von dem Punkt, an welchem wir uns gerade befinden. Doch was bringt uns das?\n",
        "\n",
        "Ich hoffe, du hast einen Moment darüber nachgedacht. Was wir wollen, ist möglichst gut die Bärenarten voneinander zu unterscheiden. Dies steuern wir über unsere Loss-Funktion. Und je geringer unsere Loss-Funktion, desto besser sind wir im Vorhersagen, was für eine Bärenart wir hier gerade haben. Durch den Gradienten wissen wir, in welche Richtung wir uns bewegen müssen, um unsere Loss-Funktion kleiner zu machen.\n",
        "\n",
        "Noch mag das Ganze recht abstrakt klingen, schon in Kürze folgt hier das Beispiel in Python. Ich will das Ganze aber noch einmal zusammenfassen. Wir wollen etwas optimieren, zum Beispiel möglichst genau die Bärenart vorhersagen. Um diese Funktion zu optimieren, brauchen wir die Loss-Funktion, die uns angibt, wie gut/schlecht unser Modell/unsere Zielfunktion performt. Diese Funktionen können jegliche erdenkliche Formen annehmen. Dem Gradienten ist dies jedoch egal. Der Gradient kann uns zu jedem Ort, an welchem wir uns in der Funktion befinden sagen, was mit unser Loss-Funktion passiert, wenn wir uns ein kleines Stück in eine beliebeige Richtung bewegen. Dies nutzen wir als Feedback, um die Parameter der Zielfunktion so anzupassen, dass die Loss-Funktion kleiner wird, wir also besser die Bärenarten voneinander unterscheiden können.\n",
        "\n",
        "Dies sind die Schritte, die in dem Schaubild erklärt sind: wir initialisieren die Werte unserer Zielfunktion (anfangs zufällig, weil wir nicht wissen, wie die richtige Funktion aussieht), wir lassen unser Modell Vorhersagen treffen, berechnen daraufhin den Loss und die dazugehörigen Gradienten, um dann durch die Gradienten die Parameter des Modells anzupassen. Diesen Prozess wiederholen wir solange, bis wir mit dem Endergebnis zufrieden sind .Dies sollte auf einem sogenannten Validierungs-Set festgelegt werden, also auf Bildern von Bären, die unser Modell im Trainingsloop nicht sieht. Vielleicht wäre es hier angebracht einmal darüber nachzudenken, warum wir nicht einfach den Trainingsloop solange wiederholen, bis wir alle Bärenarten durch Gradient Descent korrekt vorhersagen können (Stichwort: Overfitting).\n",
        "\n",
        "Genug geredet, jetzt wollen wir das Ganze auch in Code sehen!"
      ]
    },
    {
      "cell_type": "markdown",
      "metadata": {
        "id": "nFtqHveFdTqm",
        "colab_type": "text"
      },
      "source": [
        "# Code Beispiel\n",
        " Wir wollen mit Hilfe des oben beschriebenen Prozesses eine Funktion finden, die möglichst genau den Verlauf folgender Funktion beschrieben kann:"
      ]
    },
    {
      "cell_type": "code",
      "metadata": {
        "id": "MvGa-fGqdTSY",
        "colab_type": "code",
        "colab": {}
      },
      "source": [
        "import torch\n",
        "import matplotlib.pyplot as plt"
      ],
      "execution_count": 713,
      "outputs": []
    },
    {
      "cell_type": "code",
      "metadata": {
        "id": "4lHjPZjPRfYR",
        "colab_type": "code",
        "colab": {
          "base_uri": "https://localhost:8080/",
          "height": 54
        },
        "outputId": "fb1c3ef8-099b-4b01-d059-d1c161bf1c24"
      },
      "source": [
        "x = torch.arange(-5,20).float(); x"
      ],
      "execution_count": 714,
      "outputs": [
        {
          "output_type": "execute_result",
          "data": {
            "text/plain": [
              "tensor([-5., -4., -3., -2., -1.,  0.,  1.,  2.,  3.,  4.,  5.,  6.,  7.,  8.,\n",
              "         9., 10., 11., 12., 13., 14., 15., 16., 17., 18., 19.])"
            ]
          },
          "metadata": {
            "tags": []
          },
          "execution_count": 714
        }
      ]
    },
    {
      "cell_type": "code",
      "metadata": {
        "id": "MryzYewjRtOq",
        "colab_type": "code",
        "colab": {
          "base_uri": "https://localhost:8080/",
          "height": 265
        },
        "outputId": "1678a9e0-b85d-418a-c691-a237b47dc2c8"
      },
      "source": [
        "y = 0.75*(x-4)**2 + 0.5*x + 1\n",
        "plt.scatter(x,y);"
      ],
      "execution_count": 715,
      "outputs": [
        {
          "output_type": "display_data",
          "data": {
            "image/png": "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\n",
            "text/plain": [
              "<Figure size 432x288 with 1 Axes>"
            ]
          },
          "metadata": {
            "tags": [],
            "needs_background": "light"
          }
        }
      ]
    },
    {
      "cell_type": "markdown",
      "metadata": {
        "id": "PMt99sRee1kB",
        "colab_type": "text"
      },
      "source": [
        "Was wir wollen ist die Parameter dieser Funktion zu schätzen. Vom ansehen der Daten können wir bereits auf die funktionale Form schließen - ein Polynom 3ten Grades. Was wir an diesem Beispiel schon erkennen können ist, dass die angenommene Zielfunktion eine große Rolle spielt. Hätten wir von den Daten auf eine quadratische Funktion geschlossen, würden wir die \"wahre\" Form der Funktion nie richtig bestimmen können. Deep Learning überkommt dieses \"Problem\", indem es jede nur erdenkliche Funktion annehmen kann (dazu mehr in einem späteren Post).\n",
        "\n"
      ]
    },
    {
      "cell_type": "code",
      "metadata": {
        "id": "jPMASqKNeqBi",
        "colab_type": "code",
        "colab": {}
      },
      "source": [
        "def f(x, params):\n",
        "    a,b,c,d = params\n",
        "    return a*(x-b)**2 + (c*x) + d"
      ],
      "execution_count": 716,
      "outputs": []
    },
    {
      "cell_type": "markdown",
      "metadata": {
        "id": "e2A7McgDgJMN",
        "colab_type": "text"
      },
      "source": [
        "Jetzt benötigen wir noch unsere Loss-Funktion (und ich hoffe hier wird klar, wie Loss-Funktion und Zielfunktion miteinander \"kommunuzieren):"
      ]
    },
    {
      "cell_type": "code",
      "metadata": {
        "id": "7gBDwtCBgIa2",
        "colab_type": "code",
        "colab": {}
      },
      "source": [
        "def mse(preds, targets): return ((preds-targets)**2).mean()"
      ],
      "execution_count": 717,
      "outputs": []
    },
    {
      "cell_type": "markdown",
      "metadata": {
        "id": "6LHM1OvhgV6W",
        "colab_type": "text"
      },
      "source": [
        "preds sind die Vorhersagen des Modells, targets die \"wahren\" Werte aus unseren Daten. Was die Loss-Funktion ausspuckt ist der sogenannte Root Mean Squared Error.\n",
        "\n",
        "Jetzt folgen wir den beschriebenen Steps aus dem Schaubild: wir initiieren zufällig unsere Parameter der Zielfunktion (a,b,c und d)"
      ]
    },
    {
      "cell_type": "code",
      "metadata": {
        "id": "Mhu0A_9agVIP",
        "colab_type": "code",
        "colab": {
          "base_uri": "https://localhost:8080/",
          "height": 35
        },
        "outputId": "ff675065-18b3-4b59-ceb4-494132847123"
      },
      "source": [
        "params = torch.randn(4).requires_grad_()\n",
        "params"
      ],
      "execution_count": 718,
      "outputs": [
        {
          "output_type": "execute_result",
          "data": {
            "text/plain": [
              "tensor([-1.3573, -0.9368, -1.0199,  1.2579], requires_grad=True)"
            ]
          },
          "metadata": {
            "tags": []
          },
          "execution_count": 718
        }
      ]
    },
    {
      "cell_type": "markdown",
      "metadata": {
        "id": "TwlveBtHg6KC",
        "colab_type": "text"
      },
      "source": [
        "Wir starten unsere Vorhersagen:"
      ]
    },
    {
      "cell_type": "code",
      "metadata": {
        "id": "XDrzZ5F8gzMd",
        "colab_type": "code",
        "colab": {}
      },
      "source": [
        "preds = f(x, params)"
      ],
      "execution_count": 719,
      "outputs": []
    },
    {
      "cell_type": "code",
      "metadata": {
        "id": "i_xSsJOmEi3v",
        "colab_type": "code",
        "colab": {
          "base_uri": "https://localhost:8080/",
          "height": 283
        },
        "outputId": "1a8c8532-f4b7-40a0-d4c2-ffd5372691ba"
      },
      "source": [
        "plt.scatter(x,preds.detach().numpy())"
      ],
      "execution_count": 720,
      "outputs": [
        {
          "output_type": "execute_result",
          "data": {
            "text/plain": [
              "<matplotlib.collections.PathCollection at 0x7fd1123ca080>"
            ]
          },
          "metadata": {
            "tags": []
          },
          "execution_count": 720
        },
        {
          "output_type": "display_data",
          "data": {
            "image/png": "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\n",
            "text/plain": [
              "<Figure size 432x288 with 1 Axes>"
            ]
          },
          "metadata": {
            "tags": [],
            "needs_background": "light"
          }
        }
      ]
    },
    {
      "cell_type": "markdown",
      "metadata": {
        "id": "DHYG1pJUhZgt",
        "colab_type": "text"
      },
      "source": [
        "Wie gut sehen unsere Vorhersagen aus?"
      ]
    },
    {
      "cell_type": "code",
      "metadata": {
        "id": "KRUrRgtdg_8F",
        "colab_type": "code",
        "colab": {}
      },
      "source": [
        "def show_preds(preds, ax=None):\n",
        "    if ax is None: ax=plt.subplots()[1]\n",
        "    ax.scatter(x, y)\n",
        "    ax.scatter(x, preds.detach().numpy(), color='red')\n",
        "    ax.set_ylim(-10,100)\n",
        "    ax.set_xlim(-5,20)"
      ],
      "execution_count": 721,
      "outputs": []
    },
    {
      "cell_type": "code",
      "metadata": {
        "id": "LTa5YI-ZhY7V",
        "colab_type": "code",
        "colab": {
          "base_uri": "https://localhost:8080/",
          "height": 269
        },
        "outputId": "955ea372-27b7-4233-88bd-c257dfa2df69"
      },
      "source": [
        "show_preds(preds)"
      ],
      "execution_count": 722,
      "outputs": [
        {
          "output_type": "display_data",
          "data": {
            "image/png": "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\n",
            "text/plain": [
              "<Figure size 432x288 with 1 Axes>"
            ]
          },
          "metadata": {
            "tags": [],
            "needs_background": "light"
          }
        }
      ]
    },
    {
      "cell_type": "markdown",
      "metadata": {
        "id": "tY6ShIXsh6sY",
        "colab_type": "text"
      },
      "source": [
        "Wow! Ziemlich miserabel. Wie miserabel zeigt uns unser loss."
      ]
    },
    {
      "cell_type": "code",
      "metadata": {
        "id": "_2WI6KoUhdf6",
        "colab_type": "code",
        "colab": {
          "base_uri": "https://localhost:8080/",
          "height": 35
        },
        "outputId": "867eb9df-1a78-41ef-fb1e-02e06b0a7a21"
      },
      "source": [
        "loss = mse(preds, y)\n",
        "loss"
      ],
      "execution_count": 723,
      "outputs": [
        {
          "output_type": "execute_result",
          "data": {
            "text/plain": [
              "tensor(94110.5078, grad_fn=<MeanBackward0>)"
            ]
          },
          "metadata": {
            "tags": []
          },
          "execution_count": 723
        }
      ]
    },
    {
      "cell_type": "markdown",
      "metadata": {
        "id": "pCyq7igBiLdt",
        "colab_type": "text"
      },
      "source": [
        "Auf geht's Gradient! Zeig uns, wie wir unsere Parameter updaten müssen, damit der Loss kleiner wird."
      ]
    },
    {
      "cell_type": "code",
      "metadata": {
        "id": "X3-HtJI8iHPX",
        "colab_type": "code",
        "colab": {
          "base_uri": "https://localhost:8080/",
          "height": 35
        },
        "outputId": "b4033e3e-54d1-46d7-cbaf-ea77dc71713c"
      },
      "source": [
        "loss.backward()\n",
        "params.grad"
      ],
      "execution_count": 724,
      "outputs": [
        {
          "output_type": "execute_result",
          "data": {
            "text/plain": [
              "tensor([-103388.2812,  -16927.5586,   -5837.9043,    -424.4346])"
            ]
          },
          "metadata": {
            "tags": []
          },
          "execution_count": 724
        }
      ]
    },
    {
      "cell_type": "markdown",
      "metadata": {
        "id": "bBfphmLGiZuQ",
        "colab_type": "text"
      },
      "source": [
        "Dann lass uns unsere Paramter anpassen (wir multiplizieren den Gradienten mit der sogenannten Learning Rate, dazu in einem weiteren Blog Posts mehr)."
      ]
    },
    {
      "cell_type": "code",
      "metadata": {
        "id": "djFzv-87iTl_",
        "colab_type": "code",
        "colab": {
          "base_uri": "https://localhost:8080/",
          "height": 35
        },
        "outputId": "99fb306b-5fb5-49b8-d802-7eb0d2071971"
      },
      "source": [
        "lr = 1e-5\n",
        "params.data -= lr * params.grad.data\n",
        "params.grad = None\n",
        "params"
      ],
      "execution_count": 725,
      "outputs": [
        {
          "output_type": "execute_result",
          "data": {
            "text/plain": [
              "tensor([-0.3235, -0.7676, -0.9615,  1.2621], requires_grad=True)"
            ]
          },
          "metadata": {
            "tags": []
          },
          "execution_count": 725
        }
      ]
    },
    {
      "cell_type": "markdown",
      "metadata": {
        "id": "zMa4CNx7is-s",
        "colab_type": "text"
      },
      "source": [
        "Ist unser Loss geringer geworden?"
      ]
    },
    {
      "cell_type": "code",
      "metadata": {
        "id": "utSe6YzUijzH",
        "colab_type": "code",
        "colab": {
          "base_uri": "https://localhost:8080/",
          "height": 35
        },
        "outputId": "70a9153d-25d7-44a4-bbca-1d44f63296a4"
      },
      "source": [
        "preds = f(x,params)\n",
        "mse(preds, y)"
      ],
      "execution_count": 726,
      "outputs": [
        {
          "output_type": "execute_result",
          "data": {
            "text/plain": [
              "tensor(17231.4336, grad_fn=<MeanBackward0>)"
            ]
          },
          "metadata": {
            "tags": []
          },
          "execution_count": 726
        }
      ]
    },
    {
      "cell_type": "code",
      "metadata": {
        "id": "rp01R9NsjOzu",
        "colab_type": "code",
        "colab": {
          "base_uri": "https://localhost:8080/",
          "height": 269
        },
        "outputId": "d0973f18-a6bc-4d3e-bb46-8f52cfcdeae7"
      },
      "source": [
        "show_preds(preds)"
      ],
      "execution_count": 727,
      "outputs": [
        {
          "output_type": "display_data",
          "data": {
            "image/png": "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\n",
            "text/plain": [
              "<Figure size 432x288 with 1 Axes>"
            ]
          },
          "metadata": {
            "tags": [],
            "needs_background": "light"
          }
        }
      ]
    },
    {
      "cell_type": "markdown",
      "metadata": {
        "id": "R5nXE5QwjA0Q",
        "colab_type": "text"
      },
      "source": [
        "Zum Glück ja.\n",
        "\n",
        "Wir wollen die steps wiederholen, sodass wir langsam und mithilfe von Gradient Descent unsere Zielfunktion finden."
      ]
    },
    {
      "cell_type": "code",
      "metadata": {
        "id": "5mF1G3DKiw32",
        "colab_type": "code",
        "colab": {}
      },
      "source": [
        "def apply_step(params, prn=True):\n",
        "    preds = f(x, params)\n",
        "    loss = mse(preds, y)\n",
        "    loss.backward()\n",
        "    params.data -= lr * params.grad.data\n",
        "    params.grad = None\n",
        "    if prn: print(loss.item())\n",
        "    return preds"
      ],
      "execution_count": 728,
      "outputs": []
    },
    {
      "cell_type": "code",
      "metadata": {
        "id": "iZ75KX8-AlO7",
        "colab_type": "code",
        "colab": {
          "base_uri": "https://localhost:8080/",
          "height": 384
        },
        "outputId": "9249ccc8-3873-4cf4-979e-00014292d5cf"
      },
      "source": [
        "lr=1e-5\n",
        "for i in range(20): apply_step(params)"
      ],
      "execution_count": 730,
      "outputs": [
        {
          "output_type": "stream",
          "text": [
            "273.7003173828125\n",
            "272.6025695800781\n",
            "272.28729248046875\n",
            "272.1312255859375\n",
            "272.0077209472656\n",
            "271.890625\n",
            "271.775146484375\n",
            "271.6598205566406\n",
            "271.5444030761719\n",
            "271.42938232421875\n",
            "271.3142395019531\n",
            "271.1991271972656\n",
            "271.08404541015625\n",
            "270.96893310546875\n",
            "270.85382080078125\n",
            "270.73876953125\n",
            "270.6238708496094\n",
            "270.5089111328125\n",
            "270.3939514160156\n",
            "270.279052734375\n"
          ],
          "name": "stdout"
        }
      ]
    },
    {
      "cell_type": "code",
      "metadata": {
        "id": "S75EwsGajwdL",
        "colab_type": "code",
        "colab": {
          "base_uri": "https://localhost:8080/",
          "height": 225
        },
        "outputId": "5bf7d0cc-86d0-46ab-d846-9ad47be4a4eb"
      },
      "source": [
        "_,axs = plt.subplots(1,6,figsize=(24,3))\n",
        "for ax in axs: show_preds(apply_step(params, False), ax)\n",
        "plt.tight_layout()"
      ],
      "execution_count": 729,
      "outputs": [
        {
          "output_type": "display_data",
          "data": {
            "image/png": "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\n",
            "text/plain": [
              "<Figure size 1728x216 with 6 Axes>"
            ]
          },
          "metadata": {
            "tags": [],
            "needs_background": "light"
          }
        }
      ]
    },
    {
      "cell_type": "markdown",
      "metadata": {
        "id": "Hi5b2DObMmd9",
        "colab_type": "text"
      },
      "source": [
        "Wie man sieht, passt sich die rote Kurve, also unsere Vorhersagen, immer mehr der wahren Kurve an. Alles aufgrund von Gradient Descent! Und genau diese Technik und diese Schritte, die hier in diesem Blog Post aufgezeigt wurden, sind auch die Schritte, die dabei helfen, Neuronale Netze zu trainieren. Die dann wiederum Bären auseinander halten können. \n",
        "\n",
        "\n",
        "Ich hoffe, durch diesen Post ist die Idee hinter Gradient Descent ein wenig greifbarer geworden und der Sinn und Zweck von Ableitungen könnte von einer anderen Seite vielleicht ein wenig verständlicher betrachtet werden.\n",
        "\n",
        "Bleibt dann für die nächsten Posts!\n",
        "\n",
        "Euer Lasse"
      ]
    }
  ]
}
